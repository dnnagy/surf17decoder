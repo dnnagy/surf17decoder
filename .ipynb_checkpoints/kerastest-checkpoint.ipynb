{
 "cells": [
  {
   "cell_type": "code",
   "execution_count": 1,
   "metadata": {},
   "outputs": [
    {
     "name": "stdout",
     "output_type": "stream",
     "text": [
      "Populating the interactive namespace from numpy and matplotlib\n"
     ]
    },
    {
     "name": "stderr",
     "output_type": "stream",
     "text": [
      "Using TensorFlow backend.\n"
     ]
    }
   ],
   "source": [
    "%pylab inline\n",
    "import keras"
   ]
  },
  {
   "cell_type": "code",
   "execution_count": 3,
   "metadata": {
    "scrolled": false
   },
   "outputs": [],
   "source": [
    "# Generate all the data\n",
    "from QECDataGenerator import QECDataGenerator\n",
    "\n",
    "datagen=QECDataGenerator(filename_base='small', train_size=2*10**4, \n",
    "                         validation_size=4*10**3, test_size=10**2, verbose=1)\n",
    "\n",
    "# generate train data\n",
    "#training_fname=datagen.generate(0) \n",
    "training_fname='./data/small_train.db'\n",
    "\n",
    "#generate validation data\n",
    "#validation_fname=datagen.generate(1)\n",
    "validation_fname='./data/small_validation.db'\n",
    "\n",
    "#generate testing data\n",
    "#test_fname=datagen.generate(2)\n",
    "test_fname='./data/small_test.db'"
   ]
  },
  {
   "cell_type": "code",
   "execution_count": 4,
   "metadata": {
    "scrolled": false
   },
   "outputs": [],
   "source": [
    "# Initialize batch generator\n",
    "from SQLBatchGenerators import SimpleBatchGenerator\n",
    "\n",
    "bg=SimpleBatchGenerator(training_fname, validation_fname, test_fname, batch_size=5000, mode='training')\n",
    "bgv=SimpleBatchGenerator(training_fname, validation_fname, test_fname, batch_size=2000, mode='validation')"
   ]
  },
  {
   "cell_type": "code",
   "execution_count": 5,
   "metadata": {
    "scrolled": false
   },
   "outputs": [
    {
     "ename": "NameError",
     "evalue": "name 'Dropout' is not defined",
     "output_type": "error",
     "traceback": [
      "\u001b[0;31m---------------------------------------------------------------------------\u001b[0m",
      "\u001b[0;31mNameError\u001b[0m                                 Traceback (most recent call last)",
      "\u001b[0;32m<ipython-input-5-d139b4c2220b>\u001b[0m in \u001b[0;36m<module>\u001b[0;34m()\u001b[0m\n\u001b[1;32m      3\u001b[0m \u001b[0;34m\u001b[0m\u001b[0m\n\u001b[1;32m      4\u001b[0m \u001b[0mkd\u001b[0m\u001b[0;34m=\u001b[0m\u001b[0mSimpleDecoder\u001b[0m\u001b[0;34m(\u001b[0m\u001b[0mxshape\u001b[0m\u001b[0;34m=\u001b[0m\u001b[0;34m(\u001b[0m\u001b[0;36m20\u001b[0m\u001b[0;34m,\u001b[0m\u001b[0;36m8\u001b[0m\u001b[0;34m)\u001b[0m\u001b[0;34m,\u001b[0m \u001b[0mhidden_size\u001b[0m\u001b[0;34m=\u001b[0m\u001b[0;36m64\u001b[0m\u001b[0;34m)\u001b[0m\u001b[0;34m\u001b[0m\u001b[0m\n\u001b[0;32m----> 5\u001b[0;31m \u001b[0mmodel\u001b[0m\u001b[0;34m=\u001b[0m\u001b[0mkd\u001b[0m\u001b[0;34m.\u001b[0m\u001b[0mcreate_model\u001b[0m\u001b[0;34m(\u001b[0m\u001b[0;34m)\u001b[0m\u001b[0;34m\u001b[0m\u001b[0m\n\u001b[0m\u001b[1;32m      6\u001b[0m \u001b[0mmodel\u001b[0m\u001b[0;34m.\u001b[0m\u001b[0msummary\u001b[0m\u001b[0;34m(\u001b[0m\u001b[0;34m)\u001b[0m\u001b[0;34m\u001b[0m\u001b[0m\n",
      "\u001b[0;32m~/Documents/ELTE/MSc/deeplearn2/surf17decoder/keras_decoders.py\u001b[0m in \u001b[0;36mcreate_model\u001b[0;34m(self)\u001b[0m\n\u001b[1;32m     27\u001b[0m         \u001b[0mx\u001b[0m \u001b[0;34m=\u001b[0m \u001b[0mLSTM\u001b[0m\u001b[0;34m(\u001b[0m\u001b[0mself\u001b[0m\u001b[0;34m.\u001b[0m\u001b[0mhidden_size\u001b[0m\u001b[0;34m,\u001b[0m \u001b[0mreturn_sequences\u001b[0m\u001b[0;34m=\u001b[0m\u001b[0;32mTrue\u001b[0m\u001b[0;34m)\u001b[0m\u001b[0;34m(\u001b[0m\u001b[0minput_syndr\u001b[0m\u001b[0;34m)\u001b[0m\u001b[0;34m\u001b[0m\u001b[0m\n\u001b[1;32m     28\u001b[0m         \u001b[0mx\u001b[0m \u001b[0;34m=\u001b[0m \u001b[0mLSTM\u001b[0m\u001b[0;34m(\u001b[0m\u001b[0mself\u001b[0m\u001b[0;34m.\u001b[0m\u001b[0mhidden_size\u001b[0m\u001b[0;34m,\u001b[0m \u001b[0mreturn_sequences\u001b[0m\u001b[0;34m=\u001b[0m\u001b[0;32mTrue\u001b[0m\u001b[0;34m)\u001b[0m\u001b[0;34m(\u001b[0m\u001b[0mx\u001b[0m\u001b[0;34m)\u001b[0m\u001b[0;34m\u001b[0m\u001b[0m\n\u001b[0;32m---> 29\u001b[0;31m         \u001b[0mx\u001b[0m \u001b[0;34m=\u001b[0m \u001b[0mDropout\u001b[0m\u001b[0;34m(\u001b[0m\u001b[0;36m0.5\u001b[0m\u001b[0;34m)\u001b[0m\u001b[0;34m(\u001b[0m\u001b[0mx\u001b[0m\u001b[0;34m)\u001b[0m\u001b[0;34m\u001b[0m\u001b[0m\n\u001b[0m\u001b[1;32m     30\u001b[0m         \u001b[0mx\u001b[0m \u001b[0;34m=\u001b[0m \u001b[0mLSTM\u001b[0m\u001b[0;34m(\u001b[0m\u001b[0mself\u001b[0m\u001b[0;34m.\u001b[0m\u001b[0mhidden_size\u001b[0m\u001b[0;34m,\u001b[0m \u001b[0mreturn_sequences\u001b[0m\u001b[0;34m=\u001b[0m\u001b[0;32mTrue\u001b[0m\u001b[0;34m)\u001b[0m\u001b[0;34m(\u001b[0m\u001b[0mx\u001b[0m\u001b[0;34m)\u001b[0m\u001b[0;34m\u001b[0m\u001b[0m\n\u001b[1;32m     31\u001b[0m         \u001b[0mx\u001b[0m \u001b[0;34m=\u001b[0m \u001b[0mLSTM\u001b[0m\u001b[0;34m(\u001b[0m\u001b[0mself\u001b[0m\u001b[0;34m.\u001b[0m\u001b[0mhidden_size\u001b[0m\u001b[0;34m,\u001b[0m \u001b[0mreturn_sequences\u001b[0m\u001b[0;34m=\u001b[0m\u001b[0;32mTrue\u001b[0m\u001b[0;34m)\u001b[0m\u001b[0;34m(\u001b[0m\u001b[0mx\u001b[0m\u001b[0;34m)\u001b[0m\u001b[0;34m\u001b[0m\u001b[0m\n",
      "\u001b[0;31mNameError\u001b[0m: name 'Dropout' is not defined"
     ]
    }
   ],
   "source": [
    "# Test models\n",
    "from keras_decoders import SimpleDecoder\n",
    "\n",
    "kd=SimpleDecoder(xshape=(20,8), hidden_size=64)\n",
    "model=kd.create_model()\n",
    "model.summary()"
   ]
  },
  {
   "cell_type": "code",
   "execution_count": 5,
   "metadata": {},
   "outputs": [],
   "source": [
    "from sklearn.metrics import roc_curve, auc\n",
    "from keras.callbacks import Callback\n",
    "import time\n",
    "\n",
    "def print_t(str_):\n",
    "  ## 24 hour format ##\n",
    "  return print( \"[\" + time.strftime(\"%Y-%m-%d %H:%M:%S\") + \"] \" + str_)\n",
    "\n",
    "class test_callback(Callback):\n",
    "  def __init__(self):\n",
    "    self.X = bgv.__getitem__(0)[0]\n",
    "    self.y = bgv.__getitem__(0)[1]\n",
    "  \n",
    "  def on_train_begin(self, logs={}):\n",
    "    return\n",
    "\n",
    "  def on_train_end(self, logs={}):\n",
    "    return\n",
    "  \n",
    "  def on_epoch_begin(self, epoch, logs={}):\n",
    "    return\n",
    "\n",
    "  def on_epoch_end(self, epoch, logs={}):\n",
    "    print_t(\"Generating roc curve for epoch #{0} ...\".format(epoch))\n",
    "    \n",
    "    y_pred = self.model.predict(self.X)\n",
    "    print_t(\"X.shape={0}\".format(self.X.shape))\n",
    "    print_t(\"y_pred.shape={0}\".format(y_pred.shape))\n",
    "    fpr, tpr, thr = roc_curve(self.y, y_pred)\n",
    "    \n",
    "    auc_score = auc(fpr, tpr)\n",
    "    \n",
    "    plt.ioff() ## Turn off interactive mode\n",
    "    plt.figure(figsize=(10,6), dpi=196)\n",
    "    plt.plot(fpr, tpr, label='SimpleDecoder, auc={0}'.format(auc_score))\n",
    "    plt.xlabel('fpr')\n",
    "    plt.ylabel('tpr')\n",
    "    plt.legend()\n",
    "    plt.savefig(\"SimpleDecoder_e{0}_roc.png\".format(epoch))\n",
    "    print_t(\"Epoch {0} roc-auc: {1}\".format(epoch, str(round(auc_score,4))))\n",
    "    return\n",
    "\n",
    "  def on_batch_begin(self, batch, logs={}):\n",
    "    return\n",
    "\n",
    "  def on_batch_end(self, batch, logs={}):\n",
    "    return"
   ]
  },
  {
   "cell_type": "code",
   "execution_count": 7,
   "metadata": {
    "scrolled": false
   },
   "outputs": [
    {
     "name": "stdout",
     "output_type": "stream",
     "text": [
      "Epoch 1/30\n",
      "4/4 [==============================] - 11s 3s/step - loss: 9.1661 - acc: 0.4250 - val_loss: 9.0712 - val_acc: 0.4310\n",
      "[2019-01-14 09:26:44] Generating roc curve for epoch #0 ...\n",
      "[2019-01-14 09:26:44] X.shape=(2000, 20, 8)\n",
      "[2019-01-14 09:26:44] y_pred.shape=(2000, 1)\n",
      "[2019-01-14 09:26:45] Epoch 0 roc-auc: 0.5\n",
      "Epoch 2/30\n",
      "4/4 [==============================] - 11s 3s/step - loss: 9.2362 - acc: 0.4207 - val_loss: 9.0114 - val_acc: 0.4348\n",
      "[2019-01-14 09:26:56] Generating roc curve for epoch #1 ...\n",
      "[2019-01-14 09:26:57] X.shape=(2000, 20, 8)\n",
      "[2019-01-14 09:26:57] y_pred.shape=(2000, 1)\n",
      "[2019-01-14 09:26:58] Epoch 1 roc-auc: 0.5\n",
      "Epoch 3/30\n",
      "4/4 [==============================] - 11s 3s/step - loss: 9.1756 - acc: 0.4245 - val_loss: 9.0593 - val_acc: 0.4317\n",
      "[2019-01-14 09:27:09] Generating roc curve for epoch #2 ...\n",
      "[2019-01-14 09:27:09] X.shape=(2000, 20, 8)\n",
      "[2019-01-14 09:27:09] y_pred.shape=(2000, 1)\n",
      "[2019-01-14 09:27:10] Epoch 2 roc-auc: 0.5\n",
      "Epoch 4/30\n",
      "4/4 [==============================] - 11s 3s/step - loss: 9.1788 - acc: 0.4243 - val_loss: 9.1031 - val_acc: 0.4290\n",
      "[2019-01-14 09:27:21] Generating roc curve for epoch #3 ...\n",
      "[2019-01-14 09:27:22] X.shape=(2000, 20, 8)\n",
      "[2019-01-14 09:27:22] y_pred.shape=(2000, 1)\n",
      "[2019-01-14 09:27:22] Epoch 3 roc-auc: 0.5\n",
      "Epoch 5/30\n",
      "4/4 [==============================] - 11s 3s/step - loss: 9.1581 - acc: 0.4256 - val_loss: 9.0114 - val_acc: 0.4348\n",
      "[2019-01-14 09:27:33] Generating roc curve for epoch #4 ...\n",
      "[2019-01-14 09:27:34] X.shape=(2000, 20, 8)\n",
      "[2019-01-14 09:27:34] y_pred.shape=(2000, 1)\n",
      "[2019-01-14 09:27:35] Epoch 4 roc-auc: 0.5\n",
      "Epoch 6/30\n",
      "4/4 [==============================] - 11s 3s/step - loss: 9.1517 - acc: 0.4259 - val_loss: 9.0991 - val_acc: 0.4293\n",
      "[2019-01-14 09:27:46] Generating roc curve for epoch #5 ...\n",
      "[2019-01-14 09:27:47] X.shape=(2000, 20, 8)\n",
      "[2019-01-14 09:27:47] y_pred.shape=(2000, 1)\n",
      "[2019-01-14 09:27:47] Epoch 5 roc-auc: 0.5\n",
      "Epoch 7/30\n",
      "4/4 [==============================] - 11s 3s/step - loss: 9.1119 - acc: 0.4285 - val_loss: 8.9875 - val_acc: 0.4363\n",
      "[2019-01-14 09:27:58] Generating roc curve for epoch #6 ...\n",
      "[2019-01-14 09:27:59] X.shape=(2000, 20, 8)\n",
      "[2019-01-14 09:27:59] y_pred.shape=(2000, 1)\n",
      "[2019-01-14 09:27:59] Epoch 6 roc-auc: 0.5\n",
      "Epoch 8/30\n",
      "4/4 [==============================] - 11s 3s/step - loss: 9.1414 - acc: 0.4266 - val_loss: 9.0234 - val_acc: 0.4340\n",
      "[2019-01-14 09:28:11] Generating roc curve for epoch #7 ...\n",
      "[2019-01-14 09:28:11] X.shape=(2000, 20, 8)\n",
      "[2019-01-14 09:28:11] y_pred.shape=(2000, 1)\n",
      "[2019-01-14 09:28:12] Epoch 7 roc-auc: 0.5\n",
      "Epoch 9/30\n",
      "4/4 [==============================] - 11s 3s/step - loss: 9.1509 - acc: 0.4260 - val_loss: 9.0154 - val_acc: 0.4345\n",
      "[2019-01-14 09:28:23] Generating roc curve for epoch #8 ...\n",
      "[2019-01-14 09:28:24] X.shape=(2000, 20, 8)\n",
      "[2019-01-14 09:28:24] y_pred.shape=(2000, 1)\n",
      "[2019-01-14 09:28:24] Epoch 8 roc-auc: 0.5\n",
      "Epoch 10/30\n",
      "4/4 [==============================] - 11s 3s/step - loss: 9.1047 - acc: 0.4289 - val_loss: 8.9516 - val_acc: 0.4385\n",
      "[2019-01-14 09:28:35] Generating roc curve for epoch #9 ...\n",
      "[2019-01-14 09:28:36] X.shape=(2000, 20, 8)\n",
      "[2019-01-14 09:28:36] y_pred.shape=(2000, 1)\n",
      "[2019-01-14 09:28:36] Epoch 9 roc-auc: 0.5\n",
      "Epoch 11/30\n",
      "4/4 [==============================] - 11s 3s/step - loss: 9.0808 - acc: 0.4304 - val_loss: 9.0353 - val_acc: 0.4332\n",
      "[2019-01-14 09:28:47] Generating roc curve for epoch #10 ...\n",
      "[2019-01-14 09:28:48] X.shape=(2000, 20, 8)\n",
      "[2019-01-14 09:28:48] y_pred.shape=(2000, 1)\n",
      "[2019-01-14 09:28:49] Epoch 10 roc-auc: 0.5\n",
      "Epoch 12/30\n",
      "4/4 [==============================] - 11s 3s/step - loss: 9.0832 - acc: 0.4302 - val_loss: 8.8998 - val_acc: 0.4418\n",
      "[2019-01-14 09:29:00] Generating roc curve for epoch #11 ...\n",
      "[2019-01-14 09:29:01] X.shape=(2000, 20, 8)\n",
      "[2019-01-14 09:29:01] y_pred.shape=(2000, 1)\n",
      "[2019-01-14 09:29:01] Epoch 11 roc-auc: 0.5\n",
      "Epoch 13/30\n",
      "4/4 [==============================] - 11s 3s/step - loss: 9.1892 - acc: 0.4236 - val_loss: 9.1908 - val_acc: 0.4235\n",
      "[2019-01-14 09:29:12] Generating roc curve for epoch #12 ...\n",
      "[2019-01-14 09:29:13] X.shape=(2000, 20, 8)\n",
      "[2019-01-14 09:29:13] y_pred.shape=(2000, 1)\n",
      "[2019-01-14 09:29:13] Epoch 12 roc-auc: 0.5\n",
      "Epoch 14/30\n",
      "4/4 [==============================] - 11s 3s/step - loss: 9.0943 - acc: 0.4296 - val_loss: 9.2027 - val_acc: 0.4227\n",
      "[2019-01-14 09:29:25] Generating roc curve for epoch #13 ...\n",
      "[2019-01-14 09:29:25] X.shape=(2000, 20, 8)\n",
      "[2019-01-14 09:29:25] y_pred.shape=(2000, 1)\n",
      "[2019-01-14 09:29:26] Epoch 13 roc-auc: 0.5\n",
      "Epoch 15/30\n",
      "4/4 [==============================] - 11s 3s/step - loss: 9.1613 - acc: 0.4254 - val_loss: 9.0672 - val_acc: 0.4313\n",
      "[2019-01-14 09:29:37] Generating roc curve for epoch #14 ...\n",
      "[2019-01-14 09:29:38] X.shape=(2000, 20, 8)\n",
      "[2019-01-14 09:29:38] y_pred.shape=(2000, 1)\n",
      "[2019-01-14 09:29:38] Epoch 14 roc-auc: 0.5\n",
      "Epoch 16/30\n",
      "4/4 [==============================] - 11s 3s/step - loss: 9.0927 - acc: 0.4296 - val_loss: 9.1390 - val_acc: 0.4267\n",
      "[2019-01-14 09:29:49] Generating roc curve for epoch #15 ...\n",
      "[2019-01-14 09:29:50] X.shape=(2000, 20, 8)\n",
      "[2019-01-14 09:29:50] y_pred.shape=(2000, 1)\n",
      "[2019-01-14 09:29:51] Epoch 15 roc-auc: 0.5\n",
      "Epoch 17/30\n",
      "4/4 [==============================] - 11s 3s/step - loss: 9.1270 - acc: 0.4275 - val_loss: 9.0832 - val_acc: 0.4303\n",
      "[2019-01-14 09:30:02] Generating roc curve for epoch #16 ...\n",
      "[2019-01-14 09:30:02] X.shape=(2000, 20, 8)\n",
      "[2019-01-14 09:30:02] y_pred.shape=(2000, 1)\n",
      "[2019-01-14 09:30:03] Epoch 16 roc-auc: 0.5\n",
      "Epoch 18/30\n",
      "4/4 [==============================] - 11s 3s/step - loss: 9.1828 - acc: 0.4240 - val_loss: 9.0473 - val_acc: 0.4325\n",
      "[2019-01-14 09:30:14] Generating roc curve for epoch #17 ...\n",
      "[2019-01-14 09:30:15] X.shape=(2000, 20, 8)\n",
      "[2019-01-14 09:30:15] y_pred.shape=(2000, 1)\n",
      "[2019-01-14 09:30:15] Epoch 17 roc-auc: 0.5\n",
      "Epoch 19/30\n",
      "4/4 [==============================] - 11s 3s/step - loss: 9.1230 - acc: 0.4278 - val_loss: 8.9955 - val_acc: 0.4357\n",
      "[2019-01-14 09:30:26] Generating roc curve for epoch #18 ...\n",
      "[2019-01-14 09:30:27] X.shape=(2000, 20, 8)\n",
      "[2019-01-14 09:30:27] y_pred.shape=(2000, 1)\n"
     ]
    },
    {
     "name": "stderr",
     "output_type": "stream",
     "text": [
      "/usr/local/lib/python3.6/site-packages/matplotlib/pyplot.py:537: RuntimeWarning: More than 20 figures have been opened. Figures created through the pyplot interface (`matplotlib.pyplot.figure`) are retained until explicitly closed and may consume too much memory. (To control this warning, see the rcParam `figure.max_open_warning`).\n",
      "  max_open_warning, RuntimeWarning)\n"
     ]
    },
    {
     "name": "stdout",
     "output_type": "stream",
     "text": [
      "[2019-01-14 09:30:28] Epoch 18 roc-auc: 0.5\n",
      "Epoch 20/30\n",
      "4/4 [==============================] - 11s 3s/step - loss: 9.0864 - acc: 0.4301 - val_loss: 8.9756 - val_acc: 0.4370\n",
      "[2019-01-14 09:30:39] Generating roc curve for epoch #19 ...\n",
      "[2019-01-14 09:30:40] X.shape=(2000, 20, 8)\n",
      "[2019-01-14 09:30:40] y_pred.shape=(2000, 1)\n",
      "[2019-01-14 09:30:40] Epoch 19 roc-auc: 0.5\n",
      "Epoch 21/30\n",
      "4/4 [==============================] - 11s 3s/step - loss: 9.1517 - acc: 0.4259 - val_loss: 9.0194 - val_acc: 0.4342\n",
      "[2019-01-14 09:30:52] Generating roc curve for epoch #20 ...\n",
      "[2019-01-14 09:30:52] X.shape=(2000, 20, 8)\n",
      "[2019-01-14 09:30:52] y_pred.shape=(2000, 1)\n",
      "[2019-01-14 09:30:53] Epoch 20 roc-auc: 0.5\n",
      "Epoch 22/30\n",
      "4/4 [==============================] - 12s 3s/step - loss: 9.1350 - acc: 0.4270 - val_loss: 8.9795 - val_acc: 0.4367\n",
      "[2019-01-14 09:31:04] Generating roc curve for epoch #21 ...\n",
      "[2019-01-14 09:31:05] X.shape=(2000, 20, 8)\n",
      "[2019-01-14 09:31:05] y_pred.shape=(2000, 1)\n",
      "[2019-01-14 09:31:06] Epoch 21 roc-auc: 0.5\n",
      "Epoch 23/30\n",
      "4/4 [==============================] - 11s 3s/step - loss: 9.0632 - acc: 0.4315 - val_loss: 9.0234 - val_acc: 0.4340\n",
      "[2019-01-14 09:31:17] Generating roc curve for epoch #22 ...\n",
      "[2019-01-14 09:31:18] X.shape=(2000, 20, 8)\n",
      "[2019-01-14 09:31:18] y_pred.shape=(2000, 1)\n",
      "[2019-01-14 09:31:18] Epoch 22 roc-auc: 0.5\n",
      "Epoch 24/30\n",
      "4/4 [==============================] - 11s 3s/step - loss: 9.1732 - acc: 0.4246 - val_loss: 8.9397 - val_acc: 0.4392\n",
      "[2019-01-14 09:31:29] Generating roc curve for epoch #23 ...\n",
      "[2019-01-14 09:31:30] X.shape=(2000, 20, 8)\n",
      "[2019-01-14 09:31:30] y_pred.shape=(2000, 1)\n",
      "[2019-01-14 09:31:31] Epoch 23 roc-auc: 0.5\n",
      "Epoch 25/30\n",
      "4/4 [==============================] - 11s 3s/step - loss: 9.1119 - acc: 0.4284 - val_loss: 9.0035 - val_acc: 0.4352\n",
      "[2019-01-14 09:31:42] Generating roc curve for epoch #24 ...\n",
      "[2019-01-14 09:31:42] X.shape=(2000, 20, 8)\n",
      "[2019-01-14 09:31:42] y_pred.shape=(2000, 1)\n",
      "[2019-01-14 09:31:43] Epoch 24 roc-auc: 0.5\n",
      "Epoch 26/30\n",
      "4/4 [==============================] - 11s 3s/step - loss: 9.1820 - acc: 0.4241 - val_loss: 8.9198 - val_acc: 0.4405\n",
      "[2019-01-14 09:31:54] Generating roc curve for epoch #25 ...\n",
      "[2019-01-14 09:31:54] X.shape=(2000, 20, 8)\n",
      "[2019-01-14 09:31:54] y_pred.shape=(2000, 1)\n",
      "[2019-01-14 09:31:55] Epoch 25 roc-auc: 0.5\n",
      "Epoch 27/30\n",
      "4/4 [==============================] - 12s 3s/step - loss: 9.1836 - acc: 0.4239 - val_loss: 9.2306 - val_acc: 0.4210\n",
      "[2019-01-14 09:32:07] Generating roc curve for epoch #26 ...\n",
      "[2019-01-14 09:32:08] X.shape=(2000, 20, 8)\n",
      "[2019-01-14 09:32:08] y_pred.shape=(2000, 1)\n",
      "[2019-01-14 09:32:08] Epoch 26 roc-auc: 0.5\n",
      "Epoch 28/30\n",
      "4/4 [==============================] - 12s 3s/step - loss: 9.2227 - acc: 0.4215 - val_loss: 9.0473 - val_acc: 0.4325\n",
      "[2019-01-14 09:32:20] Generating roc curve for epoch #27 ...\n",
      "[2019-01-14 09:32:21] X.shape=(2000, 20, 8)\n",
      "[2019-01-14 09:32:21] y_pred.shape=(2000, 1)\n",
      "[2019-01-14 09:32:22] Epoch 27 roc-auc: 0.5\n",
      "Epoch 29/30\n",
      "4/4 [==============================] - 11s 3s/step - loss: 9.1294 - acc: 0.4273 - val_loss: 8.9198 - val_acc: 0.4405\n",
      "[2019-01-14 09:32:33] Generating roc curve for epoch #28 ...\n",
      "[2019-01-14 09:32:33] X.shape=(2000, 20, 8)\n",
      "[2019-01-14 09:32:33] y_pred.shape=(2000, 1)\n",
      "[2019-01-14 09:32:34] Epoch 28 roc-auc: 0.5\n",
      "Epoch 30/30\n",
      "4/4 [==============================] - 11s 3s/step - loss: 9.0752 - acc: 0.4308 - val_loss: 9.0194 - val_acc: 0.4342\n",
      "[2019-01-14 09:32:45] Generating roc curve for epoch #29 ...\n",
      "[2019-01-14 09:32:46] X.shape=(2000, 20, 8)\n",
      "[2019-01-14 09:32:46] y_pred.shape=(2000, 1)\n",
      "[2019-01-14 09:32:46] Epoch 29 roc-auc: 0.5\n"
     ]
    }
   ],
   "source": [
    "X_train = bg.__getitem__(0)\n",
    "y_train = bg.__getitem__(0)\n",
    "\n",
    "hist=model.fit_generator(generator=bg,\n",
    "                    epochs=30,\n",
    "                    validation_data=bgv,\n",
    "                    use_multiprocessing=True,\n",
    "                    callbacks=[test_callback()],\n",
    "                    workers=2);"
   ]
  },
  {
   "cell_type": "code",
   "execution_count": 9,
   "metadata": {},
   "outputs": [
    {
     "name": "stdout",
     "output_type": "stream",
     "text": [
      "Using matplotlib backend: MacOSX\n"
     ]
    },
    {
     "data": {
      "text/plain": [
       "[<matplotlib.lines.Line2D at 0x12e1c84a8>]"
      ]
     },
     "execution_count": 9,
     "metadata": {},
     "output_type": "execute_result"
    }
   ],
   "source": [
    "hist.history\n",
    "%matplotlib\n",
    "plt.ion()\n",
    "plt.plot(hist.history['acc'], label='acc')\n",
    "plt.plot(hist.history['val_acc'], label='val_acc')"
   ]
  },
  {
   "cell_type": "code",
   "execution_count": 8,
   "metadata": {},
   "outputs": [],
   "source": [
    "class A:\n",
    "  def __init__(self, a=42):\n",
    "    self.a=a\n",
    "  def f(self):\n",
    "    self.b=137\n",
    "  def ff(self):\n",
    "    return self.b"
   ]
  },
  {
   "cell_type": "code",
   "execution_count": 9,
   "metadata": {},
   "outputs": [
    {
     "data": {
      "text/plain": [
       "137"
      ]
     },
     "execution_count": 9,
     "metadata": {},
     "output_type": "execute_result"
    }
   ],
   "source": [
    "_a=A()\n",
    "_a.f()\n",
    "_a.ff()"
   ]
  },
  {
   "cell_type": "code",
   "execution_count": 10,
   "metadata": {},
   "outputs": [
    {
     "data": {
      "text/plain": [
       "2"
      ]
     },
     "execution_count": 10,
     "metadata": {},
     "output_type": "execute_result"
    }
   ],
   "source": [
    "a=2\n",
    "(a)"
   ]
  },
  {
   "cell_type": "code",
   "execution_count": 11,
   "metadata": {},
   "outputs": [],
   "source": [
    "a=A()\n",
    "a.b=2\n",
    "try:\n",
    "  a.c\n",
    "  a.d\n",
    "  a.e\n",
    "except:\n",
    "  a.c = 6"
   ]
  },
  {
   "cell_type": "code",
   "execution_count": 12,
   "metadata": {},
   "outputs": [
    {
     "data": {
      "text/plain": [
       "6"
      ]
     },
     "execution_count": 12,
     "metadata": {},
     "output_type": "execute_result"
    }
   ],
   "source": [
    "a.c"
   ]
  },
  {
   "cell_type": "code",
   "execution_count": 13,
   "metadata": {},
   "outputs": [
    {
     "data": {
      "text/plain": [
       "'1.15.3'"
      ]
     },
     "execution_count": 13,
     "metadata": {},
     "output_type": "execute_result"
    }
   ],
   "source": [
    "np.__version__"
   ]
  },
  {
   "cell_type": "code",
   "execution_count": 14,
   "metadata": {},
   "outputs": [
    {
     "data": {
      "text/plain": [
       "'2.2.4'"
      ]
     },
     "execution_count": 14,
     "metadata": {},
     "output_type": "execute_result"
    }
   ],
   "source": [
    "keras.__version__"
   ]
  },
  {
   "cell_type": "code",
   "execution_count": 15,
   "metadata": {},
   "outputs": [
    {
     "data": {
      "text/plain": [
       "True"
      ]
     },
     "execution_count": 15,
     "metadata": {},
     "output_type": "execute_result"
    }
   ],
   "source": [
    "bool(bgv)"
   ]
  },
  {
   "cell_type": "code",
   "execution_count": 16,
   "metadata": {},
   "outputs": [
    {
     "data": {
      "text/plain": [
       "9"
      ]
     },
     "execution_count": 16,
     "metadata": {},
     "output_type": "execute_result"
    }
   ],
   "source": [
    "len(range(9))"
   ]
  },
  {
   "cell_type": "code",
   "execution_count": 17,
   "metadata": {},
   "outputs": [
    {
     "data": {
      "text/plain": [
       "True"
      ]
     },
     "execution_count": 17,
     "metadata": {},
     "output_type": "execute_result"
    }
   ],
   "source": [
    "60%(600/10)==0"
   ]
  },
  {
   "cell_type": "code",
   "execution_count": null,
   "metadata": {},
   "outputs": [],
   "source": []
  }
 ],
 "metadata": {
  "kernelspec": {
   "display_name": "Python 3",
   "language": "python",
   "name": "python3"
  },
  "language_info": {
   "codemirror_mode": {
    "name": "ipython",
    "version": 3
   },
   "file_extension": ".py",
   "mimetype": "text/x-python",
   "name": "python",
   "nbconvert_exporter": "python",
   "pygments_lexer": "ipython3",
   "version": "3.6.4"
  }
 },
 "nbformat": 4,
 "nbformat_minor": 2
}
