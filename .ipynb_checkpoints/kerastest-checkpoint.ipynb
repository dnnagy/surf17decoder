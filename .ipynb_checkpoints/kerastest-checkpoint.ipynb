{
 "cells": [
  {
   "cell_type": "code",
   "execution_count": 1,
   "metadata": {},
   "outputs": [
    {
     "name": "stderr",
     "output_type": "stream",
     "text": [
      "Using TensorFlow backend.\n"
     ]
    },
    {
     "name": "stdout",
     "output_type": "stream",
     "text": [
      "The database will be written to  ./data/first_data__train.db_train.db\n",
      "Error probability on the physical data qubits in percent: (x, y, z) = 0.0476 0.0476 0.0476\n",
      "Error probability on the ancilla qubits in percent: (x, y, z) = 0.0476 0.0476 0.0476\n",
      "Measurement error probability on both ancilla and data qubits in percent: 0.1429\n",
      "DONE\n"
     ]
    }
   ],
   "source": [
    "from QECDataGenerator import QECDataGenerator\n",
    "from SQLBatchGenerator import SQLBatchGenerator\n",
    "from KerasDecoder import KerasDecoder\n",
    "\n",
    "datagen=QECDataGenerator(filename_base='first_data_', train_size=10**2, validation_size=10**2, test_size=10**2)\n",
    "\n",
    "datagen.generate(0)"
   ]
  },
  {
   "cell_type": "code",
   "execution_count": null,
   "metadata": {},
   "outputs": [],
   "source": []
  }
 ],
 "metadata": {
  "kernelspec": {
   "display_name": "Python 3",
   "language": "python",
   "name": "python3"
  },
  "language_info": {
   "codemirror_mode": {
    "name": "ipython",
    "version": 3
   },
   "file_extension": ".py",
   "mimetype": "text/x-python",
   "name": "python",
   "nbconvert_exporter": "python",
   "pygments_lexer": "ipython3",
   "version": "3.6.4"
  }
 },
 "nbformat": 4,
 "nbformat_minor": 2
}
