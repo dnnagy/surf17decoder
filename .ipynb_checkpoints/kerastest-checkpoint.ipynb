{
 "cells": [
  {
   "cell_type": "code",
   "execution_count": 1,
   "metadata": {},
   "outputs": [
    {
     "name": "stdout",
     "output_type": "stream",
     "text": [
      "Populating the interactive namespace from numpy and matplotlib\n"
     ]
    }
   ],
   "source": [
    "%pylab inline"
   ]
  },
  {
   "cell_type": "code",
   "execution_count": 2,
   "metadata": {
    "scrolled": true
   },
   "outputs": [
    {
     "name": "stdout",
     "output_type": "stream",
     "text": [
      "Generating training data...\n",
      "Error probability on the physical data qubits in percent: (x, y, z) = 0.0476 0.0476 0.0476\n",
      "Error probability on the ancilla qubits in percent: (x, y, z) = 0.0476 0.0476 0.0476\n",
      "Measurement error probability on both ancilla and data qubits in percent: 0.1429\n",
      "The database is written to  ./data/first_data__train.db\n",
      "Generating validation data...\n",
      "Error probability on the physical data qubits in percent: (x, y, z) = 0.0476 0.0476 0.0476\n",
      "Error probability on the ancilla qubits in percent: (x, y, z) = 0.0476 0.0476 0.0476\n",
      "Measurement error probability on both ancilla and data qubits in percent: 0.1429\n",
      "The database is written to  ./data/first_data__validation.db\n",
      "Generating test data...\n",
      "Error probability on the physical data qubits in percent: (x, y, z) = 0.0476 0.0476 0.0476\n",
      "Error probability on the ancilla qubits in percent: (x, y, z) = 0.0476 0.0476 0.0476\n",
      "Measurement error probability on both ancilla and data qubits in percent: 0.1429\n",
      "The database is written to  ./data/first_data__test.db\n"
     ]
    }
   ],
   "source": [
    "# Generate all the data\n",
    "from QECDataGenerator import QECDataGenerator\n",
    "\n",
    "datagen=QECDataGenerator(filename_base='first_data_', train_size=10**2, validation_size=10**2, test_size=10**2)\n",
    "\n",
    "# generate train data\n",
    "training_fname=datagen.generate(0)\n",
    "\n",
    "#generate validation data\n",
    "validation_fname=datagen.generate(1)\n",
    "\n",
    "#generate testing data\n",
    "test_fname=datagen.generate(2)"
   ]
  },
  {
   "cell_type": "code",
   "execution_count": 3,
   "metadata": {
    "scrolled": false
   },
   "outputs": [
    {
     "name": "stderr",
     "output_type": "stream",
     "text": [
      "Using TensorFlow backend.\n"
     ]
    },
    {
     "data": {
      "text/plain": [
       "(1, 16, 2)"
      ]
     },
     "execution_count": 3,
     "metadata": {},
     "output_type": "execute_result"
    }
   ],
   "source": [
    "# Initialize batch generator\n",
    "from SQLBatchGenerators import SimpleBatchGenerator\n",
    "\n",
    "batchgen=SimpleBatchGenerator(training_fname, validation_fname, test_fname, mode='training')\n",
    "\n",
    "batch=batchgen.get_n_batches(1)\n",
    "batch=np.array(list(batch))\n",
    "batch.shape"
   ]
  },
  {
   "cell_type": "code",
   "execution_count": 4,
   "metadata": {},
   "outputs": [
    {
     "data": {
      "text/plain": [
       "(16, 2)"
      ]
     },
     "execution_count": 4,
     "metadata": {},
     "output_type": "execute_result"
    }
   ],
   "source": [
    "batch[0].shape"
   ]
  },
  {
   "cell_type": "code",
   "execution_count": 9,
   "metadata": {},
   "outputs": [
    {
     "name": "stdout",
     "output_type": "stream",
     "text": [
      "(20, 8)\n",
      "(1,)\n",
      "(20, 8)\n",
      "(1,)\n",
      "(20, 8)\n",
      "(1,)\n",
      "(20, 8)\n",
      "(1,)\n",
      "(20, 8)\n",
      "(1,)\n",
      "(20, 8)\n",
      "(1,)\n",
      "(20, 8)\n",
      "(1,)\n",
      "(20, 8)\n",
      "(1,)\n",
      "(20, 8)\n",
      "(1,)\n",
      "(20, 8)\n",
      "(1,)\n",
      "(20, 8)\n",
      "(1,)\n",
      "(20, 8)\n",
      "(1,)\n",
      "(20, 8)\n",
      "(1,)\n",
      "(20, 8)\n",
      "(1,)\n",
      "(20, 8)\n",
      "(1,)\n",
      "(20, 8)\n",
      "(1,)\n"
     ]
    }
   ],
   "source": [
    "for k in range(batch[0].shape[0]):\n",
    "  print(batch[0][k][0].shape)\n",
    "  print(batch[0][k][1].shape)"
   ]
  },
  {
   "cell_type": "code",
   "execution_count": null,
   "metadata": {},
   "outputs": [],
   "source": [
    "for k in range(len(list(batch))):\n",
    "  #print(\"Shape=\", batch[k].shape)\n",
    "  print(batch[k])"
   ]
  },
  {
   "cell_type": "code",
   "execution_count": null,
   "metadata": {},
   "outputs": [],
   "source": [
    "# Test models\n",
    "from keras_decoders import SimpleDecoder, BranchedDecoder\n",
    "kd=SimpleDecoder()"
   ]
  },
  {
   "cell_type": "code",
   "execution_count": null,
   "metadata": {},
   "outputs": [],
   "source": [
    "class A:\n",
    "  def __init__(self, a=42):\n",
    "    self.a=a\n",
    "  def f(self):\n",
    "    self.b=137\n",
    "  def ff(self):\n",
    "    return self.b"
   ]
  },
  {
   "cell_type": "code",
   "execution_count": null,
   "metadata": {},
   "outputs": [],
   "source": [
    "_a=A()\n",
    "_a.f()\n",
    "_a.ff()"
   ]
  },
  {
   "cell_type": "code",
   "execution_count": null,
   "metadata": {},
   "outputs": [],
   "source": [
    "validation_fname"
   ]
  }
 ],
 "metadata": {
  "kernelspec": {
   "display_name": "Python 3",
   "language": "python",
   "name": "python3"
  },
  "language_info": {
   "codemirror_mode": {
    "name": "ipython",
    "version": 3
   },
   "file_extension": ".py",
   "mimetype": "text/x-python",
   "name": "python",
   "nbconvert_exporter": "python",
   "pygments_lexer": "ipython3",
   "version": "3.6.4"
  }
 },
 "nbformat": 4,
 "nbformat_minor": 2
}
