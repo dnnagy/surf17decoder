{
 "cells": [
  {
   "cell_type": "code",
   "execution_count": 1,
   "metadata": {},
   "outputs": [
    {
     "name": "stdout",
     "output_type": "stream",
     "text": [
      "Populating the interactive namespace from numpy and matplotlib\n"
     ]
    },
    {
     "name": "stderr",
     "output_type": "stream",
     "text": [
      "Using TensorFlow backend.\n"
     ]
    }
   ],
   "source": [
    "%pylab inline\n",
    "import keras"
   ]
  },
  {
   "cell_type": "code",
   "execution_count": 2,
   "metadata": {
    "scrolled": false
   },
   "outputs": [],
   "source": [
    "# Generate all the data\n",
    "from QECDataGenerator import QECDataGenerator\n",
    "\n",
    "datagen=QECDataGenerator(filename_base='big', train_size=6*10**5, \n",
    "                         validation_size=4*10**3, test_size=10**2, verbose=1)\n",
    "\n",
    "# generate train data\n",
    "training_fname=datagen.generate(0) \n",
    "#training_fname='./data/small_train.db'\n",
    "\n",
    "#generate validation data\n",
    "validation_fname=datagen.generate(1)\n",
    "#validation_fname='./data/small_validation.db'\n",
    "\n",
    "#generate testing data\n",
    "test_fname=datagen.generate(2)\n",
    "#test_fname='./data/small_test.db'"
   ]
  },
  {
   "cell_type": "code",
   "execution_count": 9,
   "metadata": {
    "scrolled": false
   },
   "outputs": [],
   "source": [
    "# Initialize batch generator\n",
    "from SQLBatchGenerators import SimpleBatchGenerator\n",
    "\n",
    "bg=SimpleBatchGenerator(training_fname, validation_fname, test_fname, batch_size=200, mode='training')\n",
    "bgv=SimpleBatchGenerator(training_fname, validation_fname, test_fname, batch_size=2000, mode='validation')"
   ]
  },
  {
   "cell_type": "code",
   "execution_count": 10,
   "metadata": {
    "scrolled": false
   },
   "outputs": [
    {
     "name": "stdout",
     "output_type": "stream",
     "text": [
      "_________________________________________________________________\n",
      "Layer (type)                 Output Shape              Param #   \n",
      "=================================================================\n",
      "input_2 (InputLayer)         (None, 20, 8)             0         \n",
      "_________________________________________________________________\n",
      "lstm_5 (LSTM)                (None, 20, 64)            18688     \n",
      "_________________________________________________________________\n",
      "lstm_6 (LSTM)                (None, 20, 64)            33024     \n",
      "_________________________________________________________________\n",
      "lstm_7 (LSTM)                (None, 20, 64)            33024     \n",
      "_________________________________________________________________\n",
      "lstm_8 (LSTM)                (None, 20, 64)            33024     \n",
      "_________________________________________________________________\n",
      "flatten_2 (Flatten)          (None, 1280)              0         \n",
      "_________________________________________________________________\n",
      "dense_4 (Dense)              (None, 256)               327936    \n",
      "_________________________________________________________________\n",
      "dense_5 (Dense)              (None, 128)               32896     \n",
      "_________________________________________________________________\n",
      "dense_6 (Dense)              (None, 1)                 129       \n",
      "=================================================================\n",
      "Total params: 478,721\n",
      "Trainable params: 478,721\n",
      "Non-trainable params: 0\n",
      "_________________________________________________________________\n"
     ]
    }
   ],
   "source": [
    "# Test models\n",
    "from keras_decoders import SimpleDecoder\n",
    "\n",
    "kd=SimpleDecoder(xshape=(20,8), hidden_size=64)\n",
    "model=kd.create_model()\n",
    "model.summary()"
   ]
  },
  {
   "cell_type": "code",
   "execution_count": 11,
   "metadata": {},
   "outputs": [],
   "source": [
    "# Colab,\n",
    "# Nagy adat, \n",
    "# 200 ciklus\n",
    "# 25%-ban legyen pozitiv minden batchban\n",
    "# Adat eloszlasanak vizsgalata\n",
    "\n",
    "from sklearn.metrics import roc_curve, auc\n",
    "from keras.callbacks import Callback\n",
    "import time\n",
    "\n",
    "def print_t(str_):\n",
    "  ## 24 hour format ##\n",
    "  return print( \"[\" + time.strftime(\"%Y-%m-%d %H:%M:%S\") + \"] \" + str_)\n",
    "\n",
    "class test_callback(Callback):\n",
    "  def __init__(self):\n",
    "    self.X = bgv.__getitem__(0)[0]\n",
    "    self.y = bgv.__getitem__(0)[1]\n",
    "  \n",
    "  def on_train_begin(self, logs={}):\n",
    "    return\n",
    "\n",
    "  def on_train_end(self, logs={}):\n",
    "    return\n",
    "  \n",
    "  def on_epoch_begin(self, epoch, logs={}):\n",
    "    return\n",
    "\n",
    "  def on_epoch_end(self, epoch, logs={}):\n",
    "    print_t(\"Generating roc curve for epoch #{0} ...\".format(epoch))\n",
    "    \n",
    "    y_pred = self.model.predict(self.X)\n",
    "    print_t(\"X.shape={0}\".format(self.X.shape))\n",
    "    print_t(\"y_pred.shape={0}\".format(y_pred.shape))\n",
    "    fpr, tpr, thr = roc_curve(self.y, y_pred)\n",
    "    \n",
    "    auc_score = auc(fpr, tpr)\n",
    "    \n",
    "    plt.ioff() ## Turn off interactive mode\n",
    "    plt.figure(figsize=(10,6), dpi=196)\n",
    "    plt.plot(fpr, tpr, label='SimpleDecoder, auc={0}'.format(auc_score))\n",
    "    plt.xlabel('fpr')\n",
    "    plt.ylabel('tpr')\n",
    "    plt.legend()\n",
    "    plt.savefig(\"SimpleDecoder_e{0}_roc.png\".format(epoch))\n",
    "    print_t(\"Epoch {0} roc-auc: {1}\".format(epoch, str(round(auc_score,4))))\n",
    "    return\n",
    "\n",
    "  def on_batch_begin(self, batch, logs={}):\n",
    "    return\n",
    "\n",
    "  def on_batch_end(self, batch, logs={}):\n",
    "    return"
   ]
  },
  {
   "cell_type": "code",
   "execution_count": 12,
   "metadata": {
    "scrolled": false
   },
   "outputs": [
    {
     "name": "stdout",
     "output_type": "stream",
     "text": [
      "Epoch 1/10\n",
      "100/100 [==============================] - 21s 215ms/step - loss: 0.6226 - acc: 0.6128 - val_loss: 0.5536 - val_acc: 0.6565\n",
      "[2019-01-15 10:50:47] Generating roc curve for epoch #0 ...\n",
      "[2019-01-15 10:50:49] X.shape=(2000, 20, 8)\n",
      "[2019-01-15 10:50:49] y_pred.shape=(2000, 1)\n",
      "[2019-01-15 10:50:49] Epoch 0 roc-auc: 0.4848\n",
      "Epoch 2/10\n",
      "100/100 [==============================] - 18s 182ms/step - loss: 0.5343 - acc: 0.6808 - val_loss: 0.4972 - val_acc: 0.6775\n",
      "[2019-01-15 10:51:08] Generating roc curve for epoch #1 ...\n",
      "[2019-01-15 10:51:09] X.shape=(2000, 20, 8)\n",
      "[2019-01-15 10:51:09] y_pred.shape=(2000, 1)\n",
      "[2019-01-15 10:51:09] Epoch 1 roc-auc: 0.4873\n",
      "Epoch 3/10\n",
      "100/100 [==============================] - 18s 184ms/step - loss: 0.4980 - acc: 0.7135 - val_loss: 0.4684 - val_acc: 0.7542\n",
      "[2019-01-15 10:51:28] Generating roc curve for epoch #2 ...\n",
      "[2019-01-15 10:51:29] X.shape=(2000, 20, 8)\n",
      "[2019-01-15 10:51:29] y_pred.shape=(2000, 1)\n",
      "[2019-01-15 10:51:29] Epoch 2 roc-auc: 0.4835\n",
      "Epoch 4/10\n",
      "100/100 [==============================] - 18s 182ms/step - loss: 0.4395 - acc: 0.7754 - val_loss: 0.4290 - val_acc: 0.7797\n",
      "[2019-01-15 10:51:47] Generating roc curve for epoch #3 ...\n",
      "[2019-01-15 10:51:49] X.shape=(2000, 20, 8)\n",
      "[2019-01-15 10:51:49] y_pred.shape=(2000, 1)\n",
      "[2019-01-15 10:51:49] Epoch 3 roc-auc: 0.4844\n",
      "Epoch 5/10\n",
      "100/100 [==============================] - 27s 269ms/step - loss: 0.4234 - acc: 0.7898 - val_loss: 0.4289 - val_acc: 0.7750\n",
      "[2019-01-15 10:52:16] Generating roc curve for epoch #4 ...\n",
      "[2019-01-15 10:52:17] X.shape=(2000, 20, 8)\n",
      "[2019-01-15 10:52:17] y_pred.shape=(2000, 1)\n",
      "[2019-01-15 10:52:18] Epoch 4 roc-auc: 0.4843\n",
      "Epoch 6/10\n",
      "100/100 [==============================] - 23s 225ms/step - loss: 0.4003 - acc: 0.8132 - val_loss: 0.3740 - val_acc: 0.8345\n",
      "[2019-01-15 10:52:41] Generating roc curve for epoch #5 ...\n",
      "[2019-01-15 10:52:42] X.shape=(2000, 20, 8)\n",
      "[2019-01-15 10:52:42] y_pred.shape=(2000, 1)\n",
      "[2019-01-15 10:52:42] Epoch 5 roc-auc: 0.4879\n",
      "Epoch 7/10\n",
      "100/100 [==============================] - 18s 178ms/step - loss: 0.3809 - acc: 0.8303 - val_loss: 0.3865 - val_acc: 0.8092\n",
      "[2019-01-15 10:53:00] Generating roc curve for epoch #6 ...\n",
      "[2019-01-15 10:53:01] X.shape=(2000, 20, 8)\n",
      "[2019-01-15 10:53:01] y_pred.shape=(2000, 1)\n",
      "[2019-01-15 10:53:02] Epoch 6 roc-auc: 0.4838\n",
      "Epoch 8/10\n",
      "100/100 [==============================] - 18s 176ms/step - loss: 0.3717 - acc: 0.8378 - val_loss: 0.3695 - val_acc: 0.8315\n",
      "[2019-01-15 10:53:19] Generating roc curve for epoch #7 ...\n",
      "[2019-01-15 10:53:20] X.shape=(2000, 20, 8)\n",
      "[2019-01-15 10:53:20] y_pred.shape=(2000, 1)\n",
      "[2019-01-15 10:53:21] Epoch 7 roc-auc: 0.4835\n",
      "Epoch 9/10\n",
      "100/100 [==============================] - 18s 178ms/step - loss: 0.3602 - acc: 0.8483 - val_loss: 0.3700 - val_acc: 0.8250\n",
      "[2019-01-15 10:53:39] Generating roc curve for epoch #8 ...\n",
      "[2019-01-15 10:53:40] X.shape=(2000, 20, 8)\n",
      "[2019-01-15 10:53:40] y_pred.shape=(2000, 1)\n",
      "[2019-01-15 10:53:40] Epoch 8 roc-auc: 0.4768\n",
      "Epoch 10/10\n",
      "100/100 [==============================] - 18s 176ms/step - loss: 0.3493 - acc: 0.8524 - val_loss: 0.3857 - val_acc: 0.8298\n",
      "[2019-01-15 10:53:58] Generating roc curve for epoch #9 ...\n",
      "[2019-01-15 10:53:59] X.shape=(2000, 20, 8)\n",
      "[2019-01-15 10:53:59] y_pred.shape=(2000, 1)\n",
      "[2019-01-15 10:53:59] Epoch 9 roc-auc: 0.489\n"
     ]
    }
   ],
   "source": [
    "X_train = bg.__getitem__(0)\n",
    "y_train = bg.__getitem__(0)\n",
    "\n",
    "hist=model.fit_generator(generator=bg,\n",
    "                    epochs=10,\n",
    "                    validation_data=bgv,\n",
    "                    use_multiprocessing=False,\n",
    "                    callbacks=[test_callback()],\n",
    "                    workers=1);"
   ]
  },
  {
   "cell_type": "code",
   "execution_count": null,
   "metadata": {},
   "outputs": [],
   "source": [
    "hist.history\n",
    "\n",
    "plt.ion()\n",
    "plt.plot(hist.history['acc'], label='acc')\n",
    "plt.plot(hist.history['val_acc'], label='val_acc')"
   ]
  },
  {
   "cell_type": "code",
   "execution_count": null,
   "metadata": {},
   "outputs": [],
   "source": [
    "class A:\n",
    "  def __init__(self, a=42):\n",
    "    self.a=a\n",
    "  def f(self):\n",
    "    self.b=137\n",
    "  def ff(self):\n",
    "    return self.b"
   ]
  },
  {
   "cell_type": "code",
   "execution_count": null,
   "metadata": {},
   "outputs": [],
   "source": [
    "_a=A()\n",
    "_a.f()\n",
    "_a.ff()"
   ]
  },
  {
   "cell_type": "code",
   "execution_count": null,
   "metadata": {},
   "outputs": [],
   "source": [
    "a=2\n",
    "(a)"
   ]
  },
  {
   "cell_type": "code",
   "execution_count": null,
   "metadata": {},
   "outputs": [],
   "source": [
    "a=A()\n",
    "a.b=2\n",
    "try:\n",
    "  a.c\n",
    "  a.d\n",
    "  a.e\n",
    "except:\n",
    "  a.c = 6"
   ]
  },
  {
   "cell_type": "code",
   "execution_count": null,
   "metadata": {},
   "outputs": [],
   "source": [
    "a.c"
   ]
  },
  {
   "cell_type": "code",
   "execution_count": null,
   "metadata": {},
   "outputs": [],
   "source": [
    "np.__version__"
   ]
  },
  {
   "cell_type": "code",
   "execution_count": null,
   "metadata": {},
   "outputs": [],
   "source": [
    "keras.__version__"
   ]
  },
  {
   "cell_type": "code",
   "execution_count": null,
   "metadata": {},
   "outputs": [],
   "source": [
    "bool(bgv)"
   ]
  },
  {
   "cell_type": "code",
   "execution_count": null,
   "metadata": {},
   "outputs": [],
   "source": [
    "len(range(9))"
   ]
  },
  {
   "cell_type": "code",
   "execution_count": null,
   "metadata": {},
   "outputs": [],
   "source": [
    "60%(600/10)==0"
   ]
  },
  {
   "cell_type": "code",
   "execution_count": null,
   "metadata": {},
   "outputs": [],
   "source": []
  }
 ],
 "metadata": {
  "kernelspec": {
   "display_name": "Python 3",
   "language": "python",
   "name": "python3"
  },
  "language_info": {
   "codemirror_mode": {
    "name": "ipython",
    "version": 3
   },
   "file_extension": ".py",
   "mimetype": "text/x-python",
   "name": "python",
   "nbconvert_exporter": "python",
   "pygments_lexer": "ipython3",
   "version": "3.6.4"
  }
 },
 "nbformat": 4,
 "nbformat_minor": 2
}
