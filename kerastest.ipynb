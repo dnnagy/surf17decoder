{
 "cells": [
  {
   "cell_type": "code",
   "execution_count": 2,
   "metadata": {},
   "outputs": [
    {
     "name": "stdout",
     "output_type": "stream",
     "text": [
      "Populating the interactive namespace from numpy and matplotlib\n"
     ]
    },
    {
     "data": {
      "text/plain": [
       "'2.2.4'"
      ]
     },
     "execution_count": 2,
     "metadata": {},
     "output_type": "execute_result"
    }
   ],
   "source": [
    "%pylab inline\n",
    "import keras\n",
    "keras.__version__"
   ]
  },
  {
   "cell_type": "code",
   "execution_count": 2,
   "metadata": {
    "scrolled": false
   },
   "outputs": [],
   "source": [
    "# Generate all the data\n",
    "from QECDataGenerator import QECDataGenerator\n",
    "\n",
    "datagen=QECDataGenerator(filename_base='small', train_size=4*10**3, \n",
    "                         validation_size=4*10**1, test_size=10**2, verbose=1)\n",
    "\n",
    "# generate train data\n",
    "#training_fname=datagen.generate(0) \n",
    "training_fname='./data/small_train.db'\n",
    "\n",
    "#generate validation data\n",
    "#validation_fname=datagen.generate(1)\n",
    "validation_fname='./data/small_validation.db'\n",
    "\n",
    "#generate testing data\n",
    "#test_fname=datagen.generate(2)\n",
    "test_fname='./data/small_test.db'"
   ]
  },
  {
   "cell_type": "code",
   "execution_count": 3,
   "metadata": {
    "scrolled": false
   },
   "outputs": [],
   "source": [
    "# Initialize batch generator\n",
    "from SQLBatchGenerators import SimpleBatchGenerator\n",
    "\n",
    "bg=SimpleBatchGenerator(training_fname, validation_fname, test_fname, batch_size=10, mode='training')\n",
    "bgv=SimpleBatchGenerator(training_fname, validation_fname, test_fname, batch_size=2000, mode='validation')"
   ]
  },
  {
   "cell_type": "code",
   "execution_count": 4,
   "metadata": {},
   "outputs": [],
   "source": [
    "x, p = bg._convert_sample(bg._fetch_n_records_nonull(4)[0])"
   ]
  },
  {
   "cell_type": "code",
   "execution_count": 14,
   "metadata": {},
   "outputs": [
    {
     "data": {
      "text/plain": [
       "400"
      ]
     },
     "execution_count": 14,
     "metadata": {},
     "output_type": "execute_result"
    }
   ],
   "source": [
    "bg.__len__()"
   ]
  },
  {
   "cell_type": "code",
   "execution_count": 19,
   "metadata": {},
   "outputs": [
    {
     "data": {
      "text/plain": [
       "(200, 8)"
      ]
     },
     "execution_count": 19,
     "metadata": {},
     "output_type": "execute_result"
    }
   ],
   "source": [
    "bg.__getitem__(3)[0][0].shape"
   ]
  },
  {
   "cell_type": "code",
   "execution_count": 20,
   "metadata": {
    "scrolled": false
   },
   "outputs": [
    {
     "name": "stdout",
     "output_type": "stream",
     "text": [
      "_________________________________________________________________\n",
      "Layer (type)                 Output Shape              Param #   \n",
      "=================================================================\n",
      "input_2 (InputLayer)         (None, 200, 8)            0         \n",
      "_________________________________________________________________\n",
      "lstm_5 (LSTM)                (None, 200, 64)           18688     \n",
      "_________________________________________________________________\n",
      "lstm_6 (LSTM)                (None, 200, 64)           33024     \n",
      "_________________________________________________________________\n",
      "lstm_7 (LSTM)                (None, 200, 64)           33024     \n",
      "_________________________________________________________________\n",
      "lstm_8 (LSTM)                (None, 200, 64)           33024     \n",
      "_________________________________________________________________\n",
      "flatten_2 (Flatten)          (None, 12800)             0         \n",
      "_________________________________________________________________\n",
      "dense_4 (Dense)              (None, 256)               3277056   \n",
      "_________________________________________________________________\n",
      "dense_5 (Dense)              (None, 128)               32896     \n",
      "_________________________________________________________________\n",
      "dense_6 (Dense)              (None, 1)                 129       \n",
      "=================================================================\n",
      "Total params: 3,427,841\n",
      "Trainable params: 3,427,841\n",
      "Non-trainable params: 0\n",
      "_________________________________________________________________\n"
     ]
    }
   ],
   "source": [
    "# Test models\n",
    "from keras_decoders import SimpleDecoder\n",
    "\n",
    "kd=SimpleDecoder(xshape=(200,8), hidden_size=64)\n",
    "model=kd.create_model()\n",
    "model.summary()"
   ]
  },
  {
   "cell_type": "code",
   "execution_count": 21,
   "metadata": {},
   "outputs": [],
   "source": [
    "# Colab,\n",
    "# Nagy adat, \n",
    "# 200 ciklus\n",
    "# 25%-ban legyen pozitiv minden batchban\n",
    "# Adat eloszlasanak vizsgalata\n",
    "\n",
    "from sklearn.metrics import roc_curve, auc\n",
    "from keras.callbacks import Callback\n",
    "import time\n",
    "\n",
    "def print_t(str_):\n",
    "  ## 24 hour format ##\n",
    "  return print( \"[\" + time.strftime(\"%Y-%m-%d %H:%M:%S\") + \"] \" + str_)\n",
    "\n",
    "class test_callback(Callback):\n",
    "  def __init__(self):\n",
    "    self.X = bgv.__getitem__(0)[0]\n",
    "    self.y = bgv.__getitem__(0)[1]\n",
    "  \n",
    "  def on_train_begin(self, logs={}):\n",
    "    return\n",
    "\n",
    "  def on_train_end(self, logs={}):\n",
    "    return\n",
    "  \n",
    "  def on_epoch_begin(self, epoch, logs={}):\n",
    "    return\n",
    "\n",
    "  def on_epoch_end(self, epoch, logs={}):\n",
    "    print_t(\"Generating roc curve for epoch #{0} ...\".format(epoch))\n",
    "    \n",
    "    y_pred = self.model.predict(self.X)\n",
    "    print_t(\"X.shape={0}\".format(self.X.shape))\n",
    "    print_t(\"y_pred.shape={0}\".format(y_pred.shape))\n",
    "    fpr, tpr, thr = roc_curve(self.y, y_pred)\n",
    "    \n",
    "    auc_score = auc(fpr, tpr)\n",
    "    \n",
    "    plt.ioff() ## Turn off interactive mode\n",
    "    plt.figure(figsize=(10,6), dpi=196)\n",
    "    plt.plot(fpr, tpr, label='SimpleDecoder, auc={0}'.format(auc_score))\n",
    "    plt.xlabel('fpr')\n",
    "    plt.ylabel('tpr')\n",
    "    plt.legend()\n",
    "    plt.savefig(\"SimpleDecoder_e{0}_roc.png\".format(epoch))\n",
    "    print_t(\"Epoch {0} roc-auc: {1}\".format(epoch, str(round(auc_score,4))))\n",
    "    return\n",
    "\n",
    "  def on_batch_begin(self, batch, logs={}):\n",
    "    return\n",
    "\n",
    "  def on_batch_end(self, batch, logs={}):\n",
    "    return"
   ]
  },
  {
   "cell_type": "code",
   "execution_count": 23,
   "metadata": {
    "scrolled": false
   },
   "outputs": [
    {
     "name": "stdout",
     "output_type": "stream",
     "text": [
      "Epoch 1/1\n",
      "400/400 [==============================] - 317s 793ms/step - loss: 0.6785 - acc: 0.6033 - val_loss: 0.6196 - val_acc: 0.7097\n",
      "[2019-01-15 22:36:34] Generating roc curve for epoch #0 ...\n",
      "[2019-01-15 22:36:35] X.shape=(62, 200, 8)\n",
      "[2019-01-15 22:36:35] y_pred.shape=(62, 1)\n",
      "[2019-01-15 22:36:36] Epoch 0 roc-auc: 0.5095\n"
     ]
    }
   ],
   "source": [
    "X_train = bg.__getitem__(0)\n",
    "y_train = bg.__getitem__(0)\n",
    "\n",
    "hist=model.fit_generator(generator=bg,\n",
    "                    epochs=1,\n",
    "                    validation_data=bgv,\n",
    "                    use_multiprocessing=True,\n",
    "                    callbacks=[test_callback()],\n",
    "                    workers=2);"
   ]
  },
  {
   "cell_type": "code",
   "execution_count": null,
   "metadata": {},
   "outputs": [],
   "source": [
    "hist.history\n",
    "\n",
    "plt.ion()\n",
    "plt.plot(hist.history['acc'], label='acc')\n",
    "plt.plot(hist.history['val_acc'], label='val_acc')"
   ]
  },
  {
   "cell_type": "code",
   "execution_count": null,
   "metadata": {},
   "outputs": [],
   "source": [
    "class A:\n",
    "  def __init__(self, a=42):\n",
    "    self.a=a\n",
    "  def f(self):\n",
    "    self.b=137\n",
    "  def ff(self):\n",
    "    return self.b"
   ]
  },
  {
   "cell_type": "code",
   "execution_count": null,
   "metadata": {},
   "outputs": [],
   "source": [
    "_a=A()\n",
    "_a.f()\n",
    "_a.ff()"
   ]
  },
  {
   "cell_type": "code",
   "execution_count": null,
   "metadata": {},
   "outputs": [],
   "source": [
    "a=2\n",
    "(a)"
   ]
  },
  {
   "cell_type": "code",
   "execution_count": null,
   "metadata": {},
   "outputs": [],
   "source": [
    "a=A()\n",
    "a.b=2\n",
    "try:\n",
    "  a.c\n",
    "  a.d\n",
    "  a.e\n",
    "except:\n",
    "  a.c = 6"
   ]
  },
  {
   "cell_type": "code",
   "execution_count": null,
   "metadata": {},
   "outputs": [],
   "source": [
    "a.c"
   ]
  },
  {
   "cell_type": "code",
   "execution_count": null,
   "metadata": {},
   "outputs": [],
   "source": [
    "np.__version__"
   ]
  },
  {
   "cell_type": "code",
   "execution_count": null,
   "metadata": {},
   "outputs": [],
   "source": [
    "keras.__version__"
   ]
  },
  {
   "cell_type": "code",
   "execution_count": null,
   "metadata": {},
   "outputs": [],
   "source": [
    "bool(bgv)"
   ]
  },
  {
   "cell_type": "code",
   "execution_count": null,
   "metadata": {},
   "outputs": [],
   "source": [
    "len(range(9))"
   ]
  },
  {
   "cell_type": "code",
   "execution_count": null,
   "metadata": {},
   "outputs": [],
   "source": [
    "60%(600/10)==0"
   ]
  },
  {
   "cell_type": "code",
   "execution_count": 3,
   "metadata": {},
   "outputs": [
    {
     "data": {
      "text/plain": [
       "2"
      ]
     },
     "execution_count": 3,
     "metadata": {},
     "output_type": "execute_result"
    }
   ],
   "source": [
    "a=1\n",
    "if a==1:\n",
    "  b=2\n",
    "else:\n",
    "  b=3\n",
    "  \n",
    "b"
   ]
  },
  {
   "cell_type": "code",
   "execution_count": null,
   "metadata": {},
   "outputs": [],
   "source": []
  }
 ],
 "metadata": {
  "kernelspec": {
   "display_name": "Python 3",
   "language": "python",
   "name": "python3"
  },
  "language_info": {
   "codemirror_mode": {
    "name": "ipython",
    "version": 3
   },
   "file_extension": ".py",
   "mimetype": "text/x-python",
   "name": "python",
   "nbconvert_exporter": "python",
   "pygments_lexer": "ipython3",
   "version": "3.6.4"
  }
 },
 "nbformat": 4,
 "nbformat_minor": 2
}
