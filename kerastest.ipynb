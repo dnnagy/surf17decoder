{
 "cells": [
  {
   "cell_type": "code",
   "execution_count": 1,
   "metadata": {},
   "outputs": [
    {
     "name": "stdout",
     "output_type": "stream",
     "text": [
      "Populating the interactive namespace from numpy and matplotlib\n"
     ]
    },
    {
     "name": "stderr",
     "output_type": "stream",
     "text": [
      "Using TensorFlow backend.\n"
     ]
    }
   ],
   "source": [
    "%pylab inline\n",
    "import keras"
   ]
  },
  {
   "cell_type": "code",
   "execution_count": 2,
   "metadata": {
    "scrolled": false
   },
   "outputs": [],
   "source": [
    "# Generate all the data\n",
    "from QECDataGenerator import QECDataGenerator\n",
    "\n",
    "datagen=QECDataGenerator(filename_base='small', train_size=2*10**4, \n",
    "                         validation_size=4*10**3, test_size=10**2, verbose=1)\n",
    "\n",
    "# generate train data\n",
    "#training_fname=datagen.generate(0) \n",
    "training_fname='./data/small_train.db'\n",
    "\n",
    "#generate validation data\n",
    "#validation_fname=datagen.generate(1)\n",
    "validation_fname='./data/small_validation.db'\n",
    "\n",
    "#generate testing data\n",
    "#test_fname=datagen.generate(2)\n",
    "test_fname='./data/small_test.db'"
   ]
  },
  {
   "cell_type": "code",
   "execution_count": 3,
   "metadata": {
    "scrolled": false
   },
   "outputs": [],
   "source": [
    "# Initialize batch generator\n",
    "from SQLBatchGenerators import SimpleBatchGenerator\n",
    "\n",
    "bg=SimpleBatchGenerator(training_fname, validation_fname, test_fname, batch_size=5000, mode='training')\n",
    "bgv=SimpleBatchGenerator(training_fname, validation_fname, test_fname, batch_size=2000, mode='validation')"
   ]
  },
  {
   "cell_type": "code",
   "execution_count": 4,
   "metadata": {
    "scrolled": false
   },
   "outputs": [
    {
     "name": "stdout",
     "output_type": "stream",
     "text": [
      "_________________________________________________________________\n",
      "Layer (type)                 Output Shape              Param #   \n",
      "=================================================================\n",
      "input_1 (InputLayer)         (None, 20, 8)             0         \n",
      "_________________________________________________________________\n",
      "lstm_1 (LSTM)                (None, 20, 64)            18688     \n",
      "_________________________________________________________________\n",
      "lstm_2 (LSTM)                (None, 20, 64)            33024     \n",
      "_________________________________________________________________\n",
      "dropout_1 (Dropout)          (None, 20, 64)            0         \n",
      "_________________________________________________________________\n",
      "lstm_3 (LSTM)                (None, 20, 64)            33024     \n",
      "_________________________________________________________________\n",
      "lstm_4 (LSTM)                (None, 20, 64)            33024     \n",
      "_________________________________________________________________\n",
      "dropout_2 (Dropout)          (None, 20, 64)            0         \n",
      "_________________________________________________________________\n",
      "flatten_1 (Flatten)          (None, 1280)              0         \n",
      "_________________________________________________________________\n",
      "dense_1 (Dense)              (None, 256)               327936    \n",
      "_________________________________________________________________\n",
      "dropout_3 (Dropout)          (None, 256)               0         \n",
      "_________________________________________________________________\n",
      "dense_2 (Dense)              (None, 128)               32896     \n",
      "_________________________________________________________________\n",
      "dense_3 (Dense)              (None, 1)                 129       \n",
      "=================================================================\n",
      "Total params: 478,721\n",
      "Trainable params: 478,721\n",
      "Non-trainable params: 0\n",
      "_________________________________________________________________\n"
     ]
    }
   ],
   "source": [
    "# Test models\n",
    "from keras_decoders import SimpleDecoder\n",
    "\n",
    "kd=SimpleDecoder(xshape=(20,8), hidden_size=64)\n",
    "model=kd.create_model()\n",
    "model.summary()"
   ]
  },
  {
   "cell_type": "code",
   "execution_count": 5,
   "metadata": {},
   "outputs": [],
   "source": [
    "from sklearn.metrics import roc_curve, auc\n",
    "from keras.callbacks import Callback\n",
    "import time\n",
    "\n",
    "def print_t(str_):\n",
    "  ## 24 hour format ##\n",
    "  return print( \"[\" + time.strftime(\"%Y-%m-%d %H:%M:%S\") + \"] \" + str_)\n",
    "\n",
    "class test_callback(Callback):\n",
    "  def __init__(self):\n",
    "    self.X = bgv.__getitem__(0)[0]\n",
    "    self.y = bgv.__getitem__(0)[1]\n",
    "  \n",
    "  def on_train_begin(self, logs={}):\n",
    "    return\n",
    "\n",
    "  def on_train_end(self, logs={}):\n",
    "    return\n",
    "  \n",
    "  def on_epoch_begin(self, epoch, logs={}):\n",
    "    return\n",
    "\n",
    "  def on_epoch_end(self, epoch, logs={}):\n",
    "    print_t(\"Generating roc curve for epoch #{0} ...\".format(epoch))\n",
    "    \n",
    "    y_pred = self.model.predict(self.X)\n",
    "    print_t(\"X.shape={0}\".format(self.X.shape))\n",
    "    print_t(\"y_pred.shape={0}\".format(y_pred.shape))\n",
    "    fpr, tpr, thr = roc_curve(self.y, y_pred)\n",
    "    \n",
    "    auc_score = auc(fpr, tpr)\n",
    "    \n",
    "    plt.ioff() ## Turn off interactive mode\n",
    "    plt.figure(figsize=(10,6), dpi=196)\n",
    "    plt.plot(fpr, tpr, label='SimpleDecoder, auc={0}'.format(auc_score))\n",
    "    plt.xlabel('fpr')\n",
    "    plt.ylabel('tpr')\n",
    "    plt.legend()\n",
    "    plt.savefig(\"SimpleDecoder_e{0}_roc.png\".format(epoch))\n",
    "    print_t(\"Epoch {0} roc-auc: {1}\".format(epoch, str(round(auc_score,4))))\n",
    "    return\n",
    "\n",
    "  def on_batch_begin(self, batch, logs={}):\n",
    "    return\n",
    "\n",
    "  def on_batch_end(self, batch, logs={}):\n",
    "    return"
   ]
  },
  {
   "cell_type": "code",
   "execution_count": 6,
   "metadata": {
    "scrolled": false
   },
   "outputs": [
    {
     "name": "stdout",
     "output_type": "stream",
     "text": [
      "Epoch 1/10\n",
      "4/4 [==============================] - 24s 6s/step - loss: 9.1501 - acc: 0.4260 - val_loss: 9.1031 - val_acc: 0.4290\n",
      "[2019-01-14 16:53:16] Generating roc curve for epoch #0 ...\n",
      "[2019-01-14 16:53:18] X.shape=(2000, 20, 8)\n",
      "[2019-01-14 16:53:18] y_pred.shape=(2000, 1)\n",
      "[2019-01-14 16:53:18] Epoch 0 roc-auc: 0.5\n",
      "Epoch 2/10\n",
      "4/4 [==============================] - 16s 4s/step - loss: 9.1621 - acc: 0.4253 - val_loss: 9.1031 - val_acc: 0.4290\n",
      "[2019-01-14 16:53:34] Generating roc curve for epoch #1 ...\n",
      "[2019-01-14 16:53:35] X.shape=(2000, 20, 8)\n",
      "[2019-01-14 16:53:35] y_pred.shape=(2000, 1)\n",
      "[2019-01-14 16:53:36] Epoch 1 roc-auc: 0.5\n",
      "Epoch 3/10\n",
      "4/4 [==============================] - 18s 5s/step - loss: 9.1135 - acc: 0.4283 - val_loss: 9.0353 - val_acc: 0.4332\n",
      "[2019-01-14 16:53:54] Generating roc curve for epoch #2 ...\n",
      "[2019-01-14 16:53:55] X.shape=(2000, 20, 8)\n",
      "[2019-01-14 16:53:55] y_pred.shape=(2000, 1)\n",
      "[2019-01-14 16:53:56] Epoch 2 roc-auc: 0.5\n",
      "Epoch 4/10\n",
      "4/4 [==============================] - 20s 5s/step - loss: 9.1302 - acc: 0.4273 - val_loss: 8.9477 - val_acc: 0.4388\n",
      "[2019-01-14 16:54:16] Generating roc curve for epoch #3 ...\n",
      "[2019-01-14 16:54:17] X.shape=(2000, 20, 8)\n",
      "[2019-01-14 16:54:17] y_pred.shape=(2000, 1)\n",
      "[2019-01-14 16:54:17] Epoch 3 roc-auc: 0.5\n",
      "Epoch 5/10\n",
      "4/4 [==============================] - 19s 5s/step - loss: 9.1438 - acc: 0.4264 - val_loss: 9.0234 - val_acc: 0.4340\n",
      "[2019-01-14 16:54:36] Generating roc curve for epoch #4 ...\n",
      "[2019-01-14 16:54:37] X.shape=(2000, 20, 8)\n",
      "[2019-01-14 16:54:37] y_pred.shape=(2000, 1)\n",
      "[2019-01-14 16:54:37] Epoch 4 roc-auc: 0.5\n",
      "Epoch 6/10\n",
      "4/4 [==============================] - 19s 5s/step - loss: 9.0792 - acc: 0.4305 - val_loss: 9.1669 - val_acc: 0.4250\n",
      "[2019-01-14 16:54:56] Generating roc curve for epoch #5 ...\n",
      "[2019-01-14 16:54:57] X.shape=(2000, 20, 8)\n",
      "[2019-01-14 16:54:57] y_pred.shape=(2000, 1)\n",
      "[2019-01-14 16:54:58] Epoch 5 roc-auc: 0.5\n",
      "Epoch 7/10\n",
      "4/4 [==============================] - 17s 4s/step - loss: 9.1039 - acc: 0.4290 - val_loss: 9.0553 - val_acc: 0.4320\n",
      "[2019-01-14 16:55:15] Generating roc curve for epoch #6 ...\n",
      "[2019-01-14 16:55:16] X.shape=(2000, 20, 8)\n",
      "[2019-01-14 16:55:16] y_pred.shape=(2000, 1)\n",
      "[2019-01-14 16:55:17] Epoch 6 roc-auc: 0.5\n",
      "Epoch 8/10\n",
      "4/4 [==============================] - 18s 4s/step - loss: 9.1501 - acc: 0.4260 - val_loss: 9.2585 - val_acc: 0.4192\n",
      "[2019-01-14 16:55:35] Generating roc curve for epoch #7 ...\n",
      "[2019-01-14 16:55:36] X.shape=(2000, 20, 8)\n",
      "[2019-01-14 16:55:36] y_pred.shape=(2000, 1)\n",
      "[2019-01-14 16:55:36] Epoch 7 roc-auc: 0.5\n",
      "Epoch 9/10\n",
      "4/4 [==============================] - 17s 4s/step - loss: 9.0999 - acc: 0.4292 - val_loss: 9.0274 - val_acc: 0.4338\n",
      "[2019-01-14 16:55:53] Generating roc curve for epoch #8 ...\n",
      "[2019-01-14 16:55:54] X.shape=(2000, 20, 8)\n",
      "[2019-01-14 16:55:54] y_pred.shape=(2000, 1)\n",
      "[2019-01-14 16:55:55] Epoch 8 roc-auc: 0.5\n",
      "Epoch 10/10\n",
      "4/4 [==============================] - 18s 4s/step - loss: 9.1709 - acc: 0.4248 - val_loss: 8.8520 - val_acc: 0.4447\n",
      "[2019-01-14 16:56:12] Generating roc curve for epoch #9 ...\n",
      "[2019-01-14 16:56:13] X.shape=(2000, 20, 8)\n",
      "[2019-01-14 16:56:13] y_pred.shape=(2000, 1)\n",
      "[2019-01-14 16:56:14] Epoch 9 roc-auc: 0.5\n"
     ]
    }
   ],
   "source": [
    "X_train = bg.__getitem__(0)\n",
    "y_train = bg.__getitem__(0)\n",
    "\n",
    "hist=model.fit_generator(generator=bg,\n",
    "                    epochs=10,\n",
    "                    validation_data=bgv,\n",
    "                    use_multiprocessing=True,\n",
    "                    callbacks=[test_callback()],\n",
    "                    workers=2);"
   ]
  },
  {
   "cell_type": "code",
   "execution_count": 7,
   "metadata": {},
   "outputs": [
    {
     "data": {
      "text/plain": [
       "[<matplotlib.lines.Line2D at 0x12ec9cac8>]"
      ]
     },
     "execution_count": 7,
     "metadata": {},
     "output_type": "execute_result"
    }
   ],
   "source": [
    "hist.history\n",
    "\n",
    "plt.ion()\n",
    "plt.plot(hist.history['acc'], label='acc')\n",
    "plt.plot(hist.history['val_acc'], label='val_acc')"
   ]
  },
  {
   "cell_type": "code",
   "execution_count": 8,
   "metadata": {},
   "outputs": [],
   "source": [
    "class A:\n",
    "  def __init__(self, a=42):\n",
    "    self.a=a\n",
    "  def f(self):\n",
    "    self.b=137\n",
    "  def ff(self):\n",
    "    return self.b"
   ]
  },
  {
   "cell_type": "code",
   "execution_count": 9,
   "metadata": {},
   "outputs": [
    {
     "data": {
      "text/plain": [
       "137"
      ]
     },
     "execution_count": 9,
     "metadata": {},
     "output_type": "execute_result"
    }
   ],
   "source": [
    "_a=A()\n",
    "_a.f()\n",
    "_a.ff()"
   ]
  },
  {
   "cell_type": "code",
   "execution_count": 10,
   "metadata": {},
   "outputs": [
    {
     "data": {
      "text/plain": [
       "2"
      ]
     },
     "execution_count": 10,
     "metadata": {},
     "output_type": "execute_result"
    }
   ],
   "source": [
    "a=2\n",
    "(a)"
   ]
  },
  {
   "cell_type": "code",
   "execution_count": 11,
   "metadata": {},
   "outputs": [],
   "source": [
    "a=A()\n",
    "a.b=2\n",
    "try:\n",
    "  a.c\n",
    "  a.d\n",
    "  a.e\n",
    "except:\n",
    "  a.c = 6"
   ]
  },
  {
   "cell_type": "code",
   "execution_count": 12,
   "metadata": {},
   "outputs": [
    {
     "data": {
      "text/plain": [
       "6"
      ]
     },
     "execution_count": 12,
     "metadata": {},
     "output_type": "execute_result"
    }
   ],
   "source": [
    "a.c"
   ]
  },
  {
   "cell_type": "code",
   "execution_count": 13,
   "metadata": {},
   "outputs": [
    {
     "data": {
      "text/plain": [
       "'1.15.3'"
      ]
     },
     "execution_count": 13,
     "metadata": {},
     "output_type": "execute_result"
    }
   ],
   "source": [
    "np.__version__"
   ]
  },
  {
   "cell_type": "code",
   "execution_count": 14,
   "metadata": {},
   "outputs": [
    {
     "data": {
      "text/plain": [
       "'2.2.4'"
      ]
     },
     "execution_count": 14,
     "metadata": {},
     "output_type": "execute_result"
    }
   ],
   "source": [
    "keras.__version__"
   ]
  },
  {
   "cell_type": "code",
   "execution_count": 15,
   "metadata": {},
   "outputs": [
    {
     "data": {
      "text/plain": [
       "True"
      ]
     },
     "execution_count": 15,
     "metadata": {},
     "output_type": "execute_result"
    }
   ],
   "source": [
    "bool(bgv)"
   ]
  },
  {
   "cell_type": "code",
   "execution_count": 16,
   "metadata": {},
   "outputs": [
    {
     "data": {
      "text/plain": [
       "9"
      ]
     },
     "execution_count": 16,
     "metadata": {},
     "output_type": "execute_result"
    }
   ],
   "source": [
    "len(range(9))"
   ]
  },
  {
   "cell_type": "code",
   "execution_count": 17,
   "metadata": {},
   "outputs": [
    {
     "data": {
      "text/plain": [
       "True"
      ]
     },
     "execution_count": 17,
     "metadata": {},
     "output_type": "execute_result"
    }
   ],
   "source": [
    "60%(600/10)==0"
   ]
  },
  {
   "cell_type": "code",
   "execution_count": null,
   "metadata": {},
   "outputs": [],
   "source": []
  }
 ],
 "metadata": {
  "kernelspec": {
   "display_name": "Python 3",
   "language": "python",
   "name": "python3"
  },
  "language_info": {
   "codemirror_mode": {
    "name": "ipython",
    "version": 3
   },
   "file_extension": ".py",
   "mimetype": "text/x-python",
   "name": "python",
   "nbconvert_exporter": "python",
   "pygments_lexer": "ipython3",
   "version": "3.6.4"
  }
 },
 "nbformat": 4,
 "nbformat_minor": 2
}
