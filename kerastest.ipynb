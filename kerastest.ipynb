{
 "cells": [
  {
   "cell_type": "code",
   "execution_count": 1,
   "metadata": {},
   "outputs": [
    {
     "name": "stdout",
     "output_type": "stream",
     "text": [
      "Populating the interactive namespace from numpy and matplotlib\n"
     ]
    },
    {
     "name": "stderr",
     "output_type": "stream",
     "text": [
      "Using TensorFlow backend.\n"
     ]
    }
   ],
   "source": [
    "%pylab inline\n",
    "import keras"
   ]
  },
  {
   "cell_type": "code",
   "execution_count": 2,
   "metadata": {
    "scrolled": true
   },
   "outputs": [
    {
     "name": "stdout",
     "output_type": "stream",
     "text": [
      "Generating training data...\n",
      "Error probability on the physical data qubits in percent: (x, y, z) = 0.0476 0.0476 0.0476\n",
      "Error probability on the ancilla qubits in percent: (x, y, z) = 0.0476 0.0476 0.0476\n",
      "Measurement error probability on both ancilla and data qubits in percent: 0.1429\n",
      "[2019-01-11 22:26:40] Steps done:0\n",
      "[2019-01-11 22:26:44] Steps done:500\n",
      "[2019-01-11 22:26:47] Steps done:1000\n",
      "[2019-01-11 22:26:50] Steps done:1500\n",
      "[2019-01-11 22:26:54] Steps done:2000\n",
      "[2019-01-11 22:26:57] Steps done:2500\n",
      "[2019-01-11 22:27:00] Steps done:3000\n",
      "[2019-01-11 22:27:03] Steps done:3500\n",
      "[2019-01-11 22:27:06] Steps done:4000\n",
      "[2019-01-11 22:27:10] Steps done:4500\n",
      "[2019-01-11 22:27:13] Steps done:5000\n",
      "[2019-01-11 22:27:16] Steps done:5500\n",
      "[2019-01-11 22:27:19] Steps done:6000\n",
      "[2019-01-11 22:27:23] Steps done:6500\n",
      "[2019-01-11 22:27:26] Steps done:7000\n",
      "[2019-01-11 22:27:32] Steps done:7500\n",
      "[2019-01-11 22:27:36] Steps done:8000\n",
      "[2019-01-11 22:27:39] Steps done:8500\n",
      "[2019-01-11 22:27:43] Steps done:9000\n",
      "[2019-01-11 22:27:47] Steps done:9500\n",
      "The database is written to  ./data/first_data__train.db\n",
      "Generating validation data...\n",
      "Error probability on the physical data qubits in percent: (x, y, z) = 0.0476 0.0476 0.0476\n",
      "Error probability on the ancilla qubits in percent: (x, y, z) = 0.0476 0.0476 0.0476\n",
      "Measurement error probability on both ancilla and data qubits in percent: 0.1429\n",
      "[2019-01-11 22:27:50] Steps done:0\n",
      "[2019-01-11 22:27:54] Steps done:500\n",
      "[2019-01-11 22:27:57] Steps done:1000\n",
      "[2019-01-11 22:28:00] Steps done:1500\n",
      "[2019-01-11 22:28:04] Steps done:2000\n",
      "[2019-01-11 22:28:07] Steps done:2500\n",
      "[2019-01-11 22:28:10] Steps done:3000\n",
      "[2019-01-11 22:28:14] Steps done:3500\n",
      "[2019-01-11 22:28:17] Steps done:4000\n",
      "[2019-01-11 22:28:21] Steps done:4500\n",
      "[2019-01-11 22:28:24] Steps done:5000\n",
      "[2019-01-11 22:28:27] Steps done:5500\n",
      "[2019-01-11 22:28:31] Steps done:6000\n",
      "[2019-01-11 22:28:34] Steps done:6500\n",
      "[2019-01-11 22:28:38] Steps done:7000\n",
      "[2019-01-11 22:28:41] Steps done:7500\n",
      "[2019-01-11 22:28:44] Steps done:8000\n",
      "[2019-01-11 22:28:48] Steps done:8500\n",
      "[2019-01-11 22:28:51] Steps done:9000\n",
      "[2019-01-11 22:28:55] Steps done:9500\n",
      "The database is written to  ./data/first_data__validation.db\n",
      "Generating test data...\n",
      "Error probability on the physical data qubits in percent: (x, y, z) = 0.0476 0.0476 0.0476\n",
      "Error probability on the ancilla qubits in percent: (x, y, z) = 0.0476 0.0476 0.0476\n",
      "Measurement error probability on both ancilla and data qubits in percent: 0.1429\n",
      "[2019-01-11 22:28:59] Steps done:0\n",
      "[2019-01-11 22:28:59] Steps done:10\n",
      "[2019-01-11 22:29:00] Steps done:20\n",
      "[2019-01-11 22:29:00] Steps done:30\n",
      "[2019-01-11 22:29:00] Steps done:40\n",
      "[2019-01-11 22:29:00] Steps done:50\n",
      "[2019-01-11 22:29:00] Steps done:60\n",
      "[2019-01-11 22:29:00] Steps done:70\n",
      "[2019-01-11 22:29:00] Steps done:80\n",
      "[2019-01-11 22:29:00] Steps done:90\n",
      "The database is written to  ./data/first_data__test.db\n"
     ]
    }
   ],
   "source": [
    "# Generate all the data\n",
    "from QECDataGenerator import QECDataGenerator\n",
    "\n",
    "datagen=QECDataGenerator(filename_base='first_data_', train_size=10**4, \n",
    "                         validation_size=10**4, test_size=10**2, verbose=1)\n",
    "\n",
    "# generate train data\n",
    "training_fname=datagen.generate(0)\n",
    "\n",
    "#generate validation data\n",
    "validation_fname=datagen.generate(1)\n",
    "\n",
    "#generate testing data\n",
    "test_fname=datagen.generate(2)"
   ]
  },
  {
   "cell_type": "code",
   "execution_count": 3,
   "metadata": {
    "scrolled": false
   },
   "outputs": [],
   "source": [
    "# Initialize batch generator\n",
    "from SQLBatchGenerators import SimpleBatchGenerator\n",
    "\n",
    "bg=SimpleBatchGenerator(training_fname, validation_fname, test_fname, batch_size=10, mode='training')\n",
    "bgv=SimpleBatchGenerator(training_fname, validation_fname, test_fname, batch_size=10, mode='validation')"
   ]
  },
  {
   "cell_type": "code",
   "execution_count": 4,
   "metadata": {},
   "outputs": [
    {
     "name": "stdout",
     "output_type": "stream",
     "text": [
      "_________________________________________________________________\n",
      "Layer (type)                 Output Shape              Param #   \n",
      "=================================================================\n",
      "input_1 (InputLayer)         (None, 20, 8)             0         \n",
      "_________________________________________________________________\n",
      "lstm_1 (LSTM)                (None, 20, 64)            18688     \n",
      "_________________________________________________________________\n",
      "lstm_2 (LSTM)                (None, 20, 64)            33024     \n",
      "_________________________________________________________________\n",
      "flatten_1 (Flatten)          (None, 1280)              0         \n",
      "_________________________________________________________________\n",
      "dense_1 (Dense)              (None, 64)                81984     \n",
      "_________________________________________________________________\n",
      "dense_2 (Dense)              (None, 1)                 65        \n",
      "=================================================================\n",
      "Total params: 133,761\n",
      "Trainable params: 133,761\n",
      "Non-trainable params: 0\n",
      "_________________________________________________________________\n"
     ]
    }
   ],
   "source": [
    "# Test models\n",
    "from keras_decoders import SimpleDecoder, BranchedDecoder\n",
    "\n",
    "kd=SimpleDecoder(xshape=(20,8))\n",
    "model=kd.create_model()\n",
    "model.summary()"
   ]
  },
  {
   "cell_type": "code",
   "execution_count": 5,
   "metadata": {},
   "outputs": [
    {
     "name": "stdout",
     "output_type": "stream",
     "text": [
      "Epoch 1/5\n",
      "1000/1000 [==============================] - 91s 91ms/step - loss: 9.1828 - acc: 0.4240 - val_loss: 9.1717 - val_acc: 0.4247\n",
      "Epoch 2/5\n",
      "1000/1000 [==============================] - 89s 89ms/step - loss: 8.9740 - acc: 0.4371 - val_loss: 9.2275 - val_acc: 0.4212\n",
      "Epoch 3/5\n",
      "1000/1000 [==============================] - 85s 85ms/step - loss: 9.2306 - acc: 0.4210 - val_loss: 9.1988 - val_acc: 0.4230\n",
      "Epoch 4/5\n",
      "1000/1000 [==============================] - 88s 88ms/step - loss: 9.0840 - acc: 0.4302 - val_loss: 9.1780 - val_acc: 0.4243\n",
      "Epoch 5/5\n",
      "1000/1000 [==============================] - 88s 88ms/step - loss: 9.1701 - acc: 0.4248 - val_loss: 9.0409 - val_acc: 0.4329\n"
     ]
    },
    {
     "data": {
      "text/plain": [
       "<keras.callbacks.History at 0x109635dd8>"
      ]
     },
     "execution_count": 5,
     "metadata": {},
     "output_type": "execute_result"
    }
   ],
   "source": [
    "model.fit_generator(generator=bg,\n",
    "                    epochs=5,\n",
    "                    validation_data=bgv,\n",
    "                    use_multiprocessing=True,\n",
    "                    workers=1)"
   ]
  },
  {
   "cell_type": "code",
   "execution_count": 6,
   "metadata": {},
   "outputs": [],
   "source": [
    "class A:\n",
    "  def __init__(self, a=42):\n",
    "    self.a=a\n",
    "  def f(self):\n",
    "    self.b=137\n",
    "  def ff(self):\n",
    "    return self.b"
   ]
  },
  {
   "cell_type": "code",
   "execution_count": 7,
   "metadata": {},
   "outputs": [
    {
     "data": {
      "text/plain": [
       "137"
      ]
     },
     "execution_count": 7,
     "metadata": {},
     "output_type": "execute_result"
    }
   ],
   "source": [
    "_a=A()\n",
    "_a.f()\n",
    "_a.ff()"
   ]
  },
  {
   "cell_type": "code",
   "execution_count": 8,
   "metadata": {},
   "outputs": [
    {
     "data": {
      "text/plain": [
       "2"
      ]
     },
     "execution_count": 8,
     "metadata": {},
     "output_type": "execute_result"
    }
   ],
   "source": [
    "a=2\n",
    "(a)"
   ]
  },
  {
   "cell_type": "code",
   "execution_count": 9,
   "metadata": {},
   "outputs": [],
   "source": [
    "a=A()\n",
    "a.b=2\n",
    "try:\n",
    "  a.c\n",
    "  a.d\n",
    "  a.e\n",
    "except:\n",
    "  a.c = 6"
   ]
  },
  {
   "cell_type": "code",
   "execution_count": 10,
   "metadata": {},
   "outputs": [
    {
     "data": {
      "text/plain": [
       "6"
      ]
     },
     "execution_count": 10,
     "metadata": {},
     "output_type": "execute_result"
    }
   ],
   "source": [
    "a.c"
   ]
  },
  {
   "cell_type": "code",
   "execution_count": 11,
   "metadata": {},
   "outputs": [
    {
     "data": {
      "text/plain": [
       "'1.15.3'"
      ]
     },
     "execution_count": 11,
     "metadata": {},
     "output_type": "execute_result"
    }
   ],
   "source": [
    "np.__version__"
   ]
  },
  {
   "cell_type": "code",
   "execution_count": 12,
   "metadata": {},
   "outputs": [
    {
     "data": {
      "text/plain": [
       "'2.2.4'"
      ]
     },
     "execution_count": 12,
     "metadata": {},
     "output_type": "execute_result"
    }
   ],
   "source": [
    "keras.__version__"
   ]
  },
  {
   "cell_type": "code",
   "execution_count": 13,
   "metadata": {},
   "outputs": [
    {
     "data": {
      "text/plain": [
       "True"
      ]
     },
     "execution_count": 13,
     "metadata": {},
     "output_type": "execute_result"
    }
   ],
   "source": [
    "bool(bgv)"
   ]
  },
  {
   "cell_type": "code",
   "execution_count": 14,
   "metadata": {},
   "outputs": [
    {
     "data": {
      "text/plain": [
       "9"
      ]
     },
     "execution_count": 14,
     "metadata": {},
     "output_type": "execute_result"
    }
   ],
   "source": [
    "len(range(9))"
   ]
  },
  {
   "cell_type": "code",
   "execution_count": 15,
   "metadata": {},
   "outputs": [
    {
     "data": {
      "text/plain": [
       "True"
      ]
     },
     "execution_count": 15,
     "metadata": {},
     "output_type": "execute_result"
    }
   ],
   "source": [
    "60%(600/10)==0"
   ]
  },
  {
   "cell_type": "code",
   "execution_count": null,
   "metadata": {},
   "outputs": [],
   "source": []
  }
 ],
 "metadata": {
  "kernelspec": {
   "display_name": "Python 3",
   "language": "python",
   "name": "python3"
  },
  "language_info": {
   "codemirror_mode": {
    "name": "ipython",
    "version": 3
   },
   "file_extension": ".py",
   "mimetype": "text/x-python",
   "name": "python",
   "nbconvert_exporter": "python",
   "pygments_lexer": "ipython3",
   "version": "3.6.4"
  }
 },
 "nbformat": 4,
 "nbformat_minor": 2
}
