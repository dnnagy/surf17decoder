{
 "cells": [
  {
   "cell_type": "code",
   "execution_count": 1,
   "metadata": {},
   "outputs": [
    {
     "name": "stdout",
     "output_type": "stream",
     "text": [
      "Populating the interactive namespace from numpy and matplotlib\n"
     ]
    }
   ],
   "source": [
    "%pylab inline"
   ]
  },
  {
   "cell_type": "code",
   "execution_count": 2,
   "metadata": {
    "scrolled": true
   },
   "outputs": [
    {
     "name": "stdout",
     "output_type": "stream",
     "text": [
      "Generating training data...\n",
      "Error probability on the physical data qubits in percent: (x, y, z) = 0.0476 0.0476 0.0476\n",
      "Error probability on the ancilla qubits in percent: (x, y, z) = 0.0476 0.0476 0.0476\n",
      "Measurement error probability on both ancilla and data qubits in percent: 0.1429\n",
      "The database is written to  ./data/first_data__train.db\n",
      "Generating validation data...\n",
      "Error probability on the physical data qubits in percent: (x, y, z) = 0.0476 0.0476 0.0476\n",
      "Error probability on the ancilla qubits in percent: (x, y, z) = 0.0476 0.0476 0.0476\n",
      "Measurement error probability on both ancilla and data qubits in percent: 0.1429\n",
      "The database is written to  ./data/first_data__validation.db\n",
      "Generating test data...\n",
      "Error probability on the physical data qubits in percent: (x, y, z) = 0.0476 0.0476 0.0476\n",
      "Error probability on the ancilla qubits in percent: (x, y, z) = 0.0476 0.0476 0.0476\n",
      "Measurement error probability on both ancilla and data qubits in percent: 0.1429\n",
      "The database is written to  ./data/first_data__test.db\n"
     ]
    }
   ],
   "source": [
    "# Generate all the data\n",
    "from QECDataGenerator import QECDataGenerator\n",
    "\n",
    "datagen=QECDataGenerator(filename_base='first_data_', train_size=10**2, validation_size=10**2, test_size=10**2)\n",
    "\n",
    "# generate train data\n",
    "training_fname=datagen.generate(0)\n",
    "\n",
    "#generate validation data\n",
    "validation_fname=datagen.generate(1)\n",
    "\n",
    "#generate testing data\n",
    "test_fname=datagen.generate(2)"
   ]
  },
  {
   "cell_type": "code",
   "execution_count": 3,
   "metadata": {
    "scrolled": false
   },
   "outputs": [
    {
     "name": "stderr",
     "output_type": "stream",
     "text": [
      "Using TensorFlow backend.\n"
     ]
    },
    {
     "data": {
      "text/plain": [
       "(1, 16, 2)"
      ]
     },
     "execution_count": 3,
     "metadata": {},
     "output_type": "execute_result"
    }
   ],
   "source": [
    "# Initialize batch generator\n",
    "from SQLBatchGenerators import SimpleBatchGenerator\n",
    "\n",
    "batchgen=SimpleBatchGenerator(training_fname, validation_fname, test_fname, mode='training')\n",
    "\n",
    "batch=batchgen.get_n_batches(1)\n",
    "batch=np.array(list(batch))\n",
    "batch.shape"
   ]
  },
  {
   "cell_type": "code",
   "execution_count": 4,
   "metadata": {},
   "outputs": [
    {
     "data": {
      "text/plain": [
       "(16, 2)"
      ]
     },
     "execution_count": 4,
     "metadata": {},
     "output_type": "execute_result"
    }
   ],
   "source": [
    "batch[0].shape"
   ]
  },
  {
   "cell_type": "code",
   "execution_count": 5,
   "metadata": {},
   "outputs": [
    {
     "name": "stdout",
     "output_type": "stream",
     "text": [
      "(20, 8)\n",
      "(1,)\n",
      "(20, 8)\n",
      "(1,)\n",
      "(20, 8)\n",
      "(1,)\n",
      "(20, 8)\n",
      "(1,)\n",
      "(20, 8)\n",
      "(1,)\n",
      "(20, 8)\n",
      "(1,)\n",
      "(20, 8)\n",
      "(1,)\n",
      "(20, 8)\n",
      "(1,)\n",
      "(20, 8)\n",
      "(1,)\n",
      "(20, 8)\n",
      "(1,)\n",
      "(20, 8)\n",
      "(1,)\n",
      "(20, 8)\n",
      "(1,)\n",
      "(20, 8)\n",
      "(1,)\n",
      "(20, 8)\n",
      "(1,)\n",
      "(20, 8)\n",
      "(1,)\n",
      "(20, 8)\n",
      "(1,)\n"
     ]
    }
   ],
   "source": [
    "for k in range(batch[0].shape[0]):\n",
    "  print(batch[0][k][0].shape)\n",
    "  print(batch[0][k][1].shape)"
   ]
  },
  {
   "cell_type": "code",
   "execution_count": 14,
   "metadata": {
    "scrolled": false
   },
   "outputs": [
    {
     "data": {
      "text/plain": [
       "[]"
      ]
     },
     "execution_count": 14,
     "metadata": {},
     "output_type": "execute_result"
    }
   ],
   "source": [
    "r=batchgen.__getitem__(7)\n",
    "r"
   ]
  },
  {
   "cell_type": "code",
   "execution_count": 12,
   "metadata": {},
   "outputs": [
    {
     "data": {
      "text/plain": [
       "16"
      ]
     },
     "execution_count": 12,
     "metadata": {},
     "output_type": "execute_result"
    }
   ],
   "source": [
    "len(r)"
   ]
  },
  {
   "cell_type": "code",
   "execution_count": 7,
   "metadata": {},
   "outputs": [
    {
     "name": "stdout",
     "output_type": "stream",
     "text": [
      "[[array([[False, False, False, False, False, False, False, False],\n",
      "       [False, False, False, False, False, False, False, False],\n",
      "       [False, False, False, False, False, False, False, False],\n",
      "       [False, False, False, False, False, False, False, False],\n",
      "       [False, False, False, False, False, False, False, False],\n",
      "       [False, False, False, False, False, False,  True, False],\n",
      "       [False, False, False,  True, False, False, False, False],\n",
      "       [False, False, False, False, False, False, False, False],\n",
      "       [False, False, False, False, False, False, False, False],\n",
      "       [False, False, False, False, False, False, False, False],\n",
      "       [False, False, False, False, False, False, False, False],\n",
      "       [False, False, False, False, False, False, False, False],\n",
      "       [False, False, False, False, False, False, False, False],\n",
      "       [False, False, False, False, False, False, False, False],\n",
      "       [False, False, False, False, False, False, False, False],\n",
      "       [False, False, False, False, False, False, False, False],\n",
      "       [False, False, False, False, False, False, False, False],\n",
      "       [False, False, False, False, False, False, False, False],\n",
      "       [False, False, False, False, False, False, False, False],\n",
      "       [False, False, False, False, False, False, False, False]])\n",
      "  array([ True])]\n",
      " [array([[False, False, False, False, False, False, False, False],\n",
      "       [False, False, False, False, False, False, False, False],\n",
      "       [False, False, False, False, False, False, False, False],\n",
      "       [False, False, False, False, False, False, False, False],\n",
      "       [False, False, False, False, False, False, False, False],\n",
      "       [False, False, False, False, False, False, False, False],\n",
      "       [False, False, False, False, False, False, False, False],\n",
      "       [ True, False, False, False, False, False, False, False],\n",
      "       [ True, False, False, False, False,  True, False, False],\n",
      "       [False, False, False, False, False, False, False, False],\n",
      "       [False, False, False, False, False, False, False, False],\n",
      "       [False, False, False, False, False, False, False, False],\n",
      "       [False, False,  True,  True, False, False,  True, False],\n",
      "       [False, False, False, False, False, False, False, False],\n",
      "       [False, False, False, False, False, False, False, False],\n",
      "       [False, False, False, False, False, False, False, False],\n",
      "       [False, False, False, False, False, False, False, False],\n",
      "       [False, False, False, False, False, False, False, False],\n",
      "       [False, False, False, False, False, False, False, False],\n",
      "       [False, False, False, False, False, False, False, False]])\n",
      "  array([False])]\n",
      " [array([[False, False, False, False, False, False, False, False],\n",
      "       [False, False, False, False, False, False, False, False],\n",
      "       [False, False, False, False, False,  True, False, False],\n",
      "       [False, False, False, False, False, False, False, False],\n",
      "       [False, False, False, False, False,  True, False, False],\n",
      "       [False, False, False, False, False, False, False, False],\n",
      "       [False, False, False, False, False, False, False, False],\n",
      "       [False, False, False, False, False, False, False, False],\n",
      "       [False, False, False, False,  True, False, False, False],\n",
      "       [False, False, False, False,  True, False, False, False],\n",
      "       [False, False, False, False, False, False, False, False],\n",
      "       [False, False, False, False, False, False, False, False],\n",
      "       [False, False, False, False, False, False, False, False],\n",
      "       [False, False, False, False, False, False, False, False],\n",
      "       [False, False, False, False, False, False, False, False],\n",
      "       [False, False, False, False, False, False, False, False],\n",
      "       [False, False, False, False, False, False, False, False],\n",
      "       [False, False, False, False, False, False, False, False],\n",
      "       [False, False, False, False, False, False, False, False],\n",
      "       [False, False, False, False, False, False, False, False]])\n",
      "  array([False])]\n",
      " [array([[False, False, False, False, False, False, False, False],\n",
      "       [False, False, False, False, False, False, False, False],\n",
      "       [False, False, False, False, False, False, False, False],\n",
      "       [False, False, False, False, False, False, False, False],\n",
      "       [False, False, False, False, False, False, False, False],\n",
      "       [False, False, False, False, False, False, False, False],\n",
      "       [False, False, False, False, False, False, False, False],\n",
      "       [False, False, False, False, False, False, False, False],\n",
      "       [False, False, False, False, False, False, False, False],\n",
      "       [False, False, False, False, False, False, False, False],\n",
      "       [False, False, False, False, False, False, False, False],\n",
      "       [False, False, False, False, False,  True, False, False],\n",
      "       [False,  True,  True, False, False, False,  True, False],\n",
      "       [False, False, False, False, False, False, False, False],\n",
      "       [False, False, False, False, False, False, False, False],\n",
      "       [False, False, False, False, False, False, False, False],\n",
      "       [False, False, False, False, False, False, False, False],\n",
      "       [False, False, False, False, False, False, False, False],\n",
      "       [False, False, False, False, False, False, False, False],\n",
      "       [False, False, False, False, False, False, False, False]])\n",
      "  array([ True])]\n",
      " [array([[False, False, False, False, False, False, False, False],\n",
      "       [False, False, False, False, False, False, False, False],\n",
      "       [False, False, False, False, False, False, False, False],\n",
      "       [False, False, False, False, False, False, False, False],\n",
      "       [False, False, False, False, False, False, False, False],\n",
      "       [False, False, False, False, False, False, False, False],\n",
      "       [False, False, False, False, False, False, False, False],\n",
      "       [False, False, False, False, False, False, False, False],\n",
      "       [False, False, False, False, False, False, False, False],\n",
      "       [False, False, False, False, False, False, False, False],\n",
      "       [False,  True, False, False, False, False, False, False],\n",
      "       [False, False, False, False, False, False, False, False],\n",
      "       [False, False, False, False, False, False, False, False],\n",
      "       [False, False, False, False, False, False, False, False],\n",
      "       [False, False, False, False, False, False, False, False],\n",
      "       [False, False, False, False, False, False, False, False],\n",
      "       [False, False, False, False, False, False, False, False],\n",
      "       [False, False, False, False, False, False, False, False],\n",
      "       [False, False, False, False, False, False, False, False],\n",
      "       [False, False, False, False, False, False, False, False]])\n",
      "  array([False])]\n",
      " [array([[False, False, False, False, False, False, False, False],\n",
      "       [False, False, False, False, False,  True, False, False],\n",
      "       [False, False, False, False, False, False, False, False],\n",
      "       [False, False, False, False, False, False, False, False],\n",
      "       [False, False, False, False, False, False, False, False],\n",
      "       [False, False, False, False, False, False, False, False],\n",
      "       [False, False, False, False, False, False, False, False],\n",
      "       [False, False, False, False, False, False, False, False],\n",
      "       [False, False, False, False, False, False, False, False],\n",
      "       [False, False, False, False, False, False, False, False],\n",
      "       [False, False, False, False, False, False, False, False],\n",
      "       [False, False, False, False, False, False, False, False],\n",
      "       [False, False, False, False, False, False, False, False],\n",
      "       [False, False, False, False, False, False, False, False],\n",
      "       [False, False, False, False, False, False, False, False],\n",
      "       [False, False, False, False, False, False, False, False],\n",
      "       [False, False, False, False, False, False, False, False],\n",
      "       [False, False, False, False, False, False, False, False],\n",
      "       [False, False, False, False, False, False, False, False],\n",
      "       [False, False, False, False, False, False, False, False]])\n",
      "  array([ True])]\n",
      " [array([[False, False, False, False, False, False, False, False],\n",
      "       [False, False, False, False, False, False, False, False],\n",
      "       [False, False, False, False, False, False, False, False],\n",
      "       [False, False, False, False, False, False, False, False],\n",
      "       [False, False, False, False, False, False, False, False],\n",
      "       [False, False, False, False, False, False, False, False],\n",
      "       [False, False, False, False, False, False, False, False],\n",
      "       [False, False, False, False, False, False, False, False],\n",
      "       [False, False, False, False, False, False, False, False],\n",
      "       [False, False, False, False, False, False, False, False],\n",
      "       [False, False, False, False, False, False, False, False],\n",
      "       [False, False, False, False, False, False, False, False],\n",
      "       [False, False, False, False, False, False, False, False],\n",
      "       [False, False, False, False, False, False, False, False],\n",
      "       [False, False, False, False, False, False, False, False],\n",
      "       [False, False, False, False, False, False, False, False],\n",
      "       [False, False, False, False, False, False, False, False],\n",
      "       [False, False, False, False, False, False, False, False],\n",
      "       [False, False, False, False, False, False, False, False],\n",
      "       [False, False, False, False, False, False, False, False]])\n",
      "  array([False])]\n",
      " [array([[False, False, False, False, False, False, False, False],\n",
      "       [False, False, False, False, False, False, False, False],\n",
      "       [False, False, False, False, False, False, False, False],\n",
      "       [False, False, False, False, False, False, False, False],\n",
      "       [ True,  True, False, False, False,  True, False, False],\n",
      "       [False, False, False, False, False, False, False, False],\n",
      "       [False, False, False, False, False, False, False, False],\n",
      "       [False, False, False, False, False, False, False, False],\n",
      "       [False, False, False, False, False, False, False, False],\n",
      "       [False, False, False, False, False, False, False, False],\n",
      "       [False, False, False, False, False, False, False, False],\n",
      "       [False, False, False, False, False, False, False, False],\n",
      "       [False, False,  True, False, False, False, False, False],\n",
      "       [False, False, False, False, False, False, False, False],\n",
      "       [False, False, False, False, False, False, False, False],\n",
      "       [False, False, False, False, False, False, False, False],\n",
      "       [False, False, False, False, False, False, False, False],\n",
      "       [False, False, False, False, False, False, False, False],\n",
      "       [False, False, False, False, False, False, False, False],\n",
      "       [False, False, False, False, False, False, False, False]])\n",
      "  array([ True])]\n",
      " [array([[False, False, False, False, False, False, False, False],\n",
      "       [False,  True, False, False, False, False, False, False],\n",
      "       [False, False, False, False, False, False, False, False],\n",
      "       [False,  True, False, False, False, False, False, False],\n",
      "       [False, False, False, False, False, False, False, False],\n",
      "       [False, False, False, False, False, False, False, False],\n",
      "       [False, False, False, False, False, False, False, False],\n",
      "       [False, False, False, False, False, False, False, False],\n",
      "       [False, False, False, False, False, False, False, False],\n",
      "       [False, False, False, False, False, False, False, False],\n",
      "       [False, False, False, False, False, False, False, False],\n",
      "       [ True, False, False, False, False, False, False, False],\n",
      "       [ True, False, False, False, False, False, False, False],\n",
      "       [False, False, False, False, False, False, False, False],\n",
      "       [False, False, False, False, False, False, False, False],\n",
      "       [False, False, False, False, False, False, False, False],\n",
      "       [False, False, False, False, False, False, False, False],\n",
      "       [False, False, False, False, False, False, False, False],\n",
      "       [False, False, False, False, False, False, False, False],\n",
      "       [False, False, False, False, False, False, False, False]])\n",
      "  array([False])]\n",
      " [array([[False, False, False, False, False, False, False, False],\n",
      "       [False, False, False, False, False, False, False, False],\n",
      "       [False, False, False, False, False, False, False, False],\n",
      "       [False, False, False, False, False, False, False, False],\n",
      "       [False,  True, False, False, False, False, False, False],\n",
      "       [False, False, False, False, False, False, False, False],\n",
      "       [False, False, False, False, False, False, False, False],\n",
      "       [False, False, False, False, False, False, False, False],\n",
      "       [False, False, False, False, False, False, False, False],\n",
      "       [False, False, False, False, False, False, False, False],\n",
      "       [False, False, False, False, False, False, False, False],\n",
      "       [False, False, False, False, False, False, False, False],\n",
      "       [ True, False, False, False, False,  True, False, False],\n",
      "       [False, False, False, False, False, False, False, False],\n",
      "       [False, False, False, False, False, False, False, False],\n",
      "       [False, False, False, False, False, False, False, False],\n",
      "       [False, False, False, False, False, False, False, False],\n",
      "       [False, False, False, False, False, False, False, False],\n",
      "       [False, False, False, False, False, False, False, False],\n",
      "       [False, False, False, False, False, False, False, False]])\n",
      "  array([ True])]\n",
      " [array([[False, False, False, False, False, False, False, False],\n",
      "       [False, False, False, False, False, False, False, False],\n",
      "       [False, False, False, False, False, False, False, False],\n",
      "       [False, False, False, False, False, False, False, False],\n",
      "       [False, False, False, False, False, False, False, False],\n",
      "       [False, False, False, False, False, False, False, False],\n",
      "       [ True, False, False, False, False, False, False, False],\n",
      "       [False, False, False, False, False, False, False, False],\n",
      "       [False, False, False, False, False, False, False, False],\n",
      "       [False, False, False, False, False, False, False, False],\n",
      "       [False, False, False, False, False, False,  True, False],\n",
      "       [False, False, False, False, False, False, False, False],\n",
      "       [False, False, False, False, False, False, False, False],\n",
      "       [False, False, False, False, False, False, False, False],\n",
      "       [False, False, False, False, False, False, False, False],\n",
      "       [False, False, False, False, False, False, False, False],\n",
      "       [False, False, False, False, False, False, False, False],\n",
      "       [False, False, False, False, False, False, False, False],\n",
      "       [False, False, False, False, False, False, False, False],\n",
      "       [False, False, False, False, False, False, False, False]])\n",
      "  array([ True])]\n",
      " [array([[False, False, False, False, False, False, False, False],\n",
      "       [False, False, False, False,  True, False, False, False],\n",
      "       [False, False, False, False, False, False, False, False],\n",
      "       [False, False, False, False,  True, False, False, False],\n",
      "       [False, False, False, False, False, False, False, False],\n",
      "       [False, False, False, False, False, False, False, False],\n",
      "       [False, False, False, False, False, False, False, False],\n",
      "       [False, False, False, False, False, False, False, False],\n",
      "       [False, False, False, False, False, False, False, False],\n",
      "       [False, False, False, False, False, False, False, False],\n",
      "       [False, False, False, False, False, False, False, False],\n",
      "       [False, False, False, False, False, False, False, False],\n",
      "       [False, False, False, False, False, False, False, False],\n",
      "       [False, False, False, False, False, False, False, False],\n",
      "       [False, False, False, False, False, False, False, False],\n",
      "       [False, False, False, False, False, False, False, False],\n",
      "       [False, False, False, False, False, False, False, False],\n",
      "       [False, False, False, False, False, False, False, False],\n",
      "       [False, False, False, False, False, False, False, False],\n",
      "       [False, False, False, False, False, False, False, False]])\n",
      "  array([False])]\n",
      " [array([[False, False, False, False, False, False, False, False],\n",
      "       [False, False, False, False, False, False, False, False],\n",
      "       [False, False, False, False, False, False, False, False],\n",
      "       [False, False, False, False, False, False, False, False],\n",
      "       [False, False, False, False, False, False, False, False],\n",
      "       [False, False, False, False, False, False, False, False],\n",
      "       [False, False, False, False, False, False, False, False],\n",
      "       [False, False, False, False, False, False, False, False],\n",
      "       [False, False, False, False, False, False, False, False],\n",
      "       [False, False, False, False, False, False, False, False],\n",
      "       [False, False, False, False, False, False, False, False],\n",
      "       [False, False, False, False, False,  True, False, False],\n",
      "       [False, False, False, False,  True, False, False, False],\n",
      "       [False, False, False, False, False, False, False, False],\n",
      "       [False, False, False, False, False, False, False, False],\n",
      "       [False, False, False, False, False, False, False, False],\n",
      "       [False, False, False, False, False, False, False, False],\n",
      "       [False, False, False, False, False, False, False, False],\n",
      "       [False, False, False, False, False, False, False, False],\n",
      "       [False, False, False, False, False, False, False, False]])\n",
      "  array([False])]\n",
      " [array([[ True, False, False, False, False, False, False, False],\n",
      "       [ True, False,  True,  True, False, False,  True, False],\n",
      "       [False, False, False, False, False, False, False, False],\n",
      "       [False, False, False, False, False, False, False, False],\n",
      "       [False, False, False, False, False, False, False, False],\n",
      "       [False, False, False, False, False, False, False, False],\n",
      "       [False, False, False, False, False, False, False, False],\n",
      "       [False, False, False, False, False, False, False, False],\n",
      "       [False, False, False, False, False, False, False, False],\n",
      "       [False, False, False, False, False, False, False, False],\n",
      "       [False, False, False, False, False, False, False,  True],\n",
      "       [False, False, False,  True, False, False, False, False],\n",
      "       [False, False, False, False, False, False, False, False],\n",
      "       [False, False, False, False, False, False, False, False],\n",
      "       [False, False, False, False, False, False, False, False],\n",
      "       [False, False, False, False, False, False, False, False],\n",
      "       [False, False, False, False, False, False, False, False],\n",
      "       [False, False, False, False, False, False, False, False],\n",
      "       [False, False, False, False, False, False, False, False],\n",
      "       [False, False, False, False, False, False, False, False]])\n",
      "  array([False])]\n",
      " [array([[False, False, False, False, False, False, False, False],\n",
      "       [False, False, False, False, False, False, False, False],\n",
      "       [False, False, False, False, False, False, False, False],\n",
      "       [False,  True, False, False,  True, False, False, False],\n",
      "       [False, False, False, False, False, False, False, False],\n",
      "       [False, False, False, False, False, False, False, False],\n",
      "       [False, False, False, False, False, False, False, False],\n",
      "       [False, False, False, False, False, False, False, False],\n",
      "       [False, False, False, False, False, False, False, False],\n",
      "       [False, False, False, False, False, False, False, False],\n",
      "       [False, False, False, False, False, False, False, False],\n",
      "       [False, False, False, False, False, False, False, False],\n",
      "       [False, False, False, False, False, False, False, False],\n",
      "       [False, False, False, False, False, False, False, False],\n",
      "       [False, False, False, False, False, False, False, False],\n",
      "       [False, False, False, False, False, False, False, False],\n",
      "       [False, False, False, False, False, False, False, False],\n",
      "       [False, False, False, False, False, False, False, False],\n",
      "       [False, False, False, False, False, False, False, False],\n",
      "       [False, False, False, False, False, False, False, False]])\n",
      "  array([False])]\n",
      " [array([[False, False, False, False, False, False, False, False],\n",
      "       [False, False, False, False, False, False, False, False],\n",
      "       [False, False, False, False, False, False, False, False],\n",
      "       [False, False, False, False, False, False, False, False],\n",
      "       [False, False, False, False, False, False, False, False],\n",
      "       [False, False, False, False, False, False, False, False],\n",
      "       [False, False, False, False, False, False, False, False],\n",
      "       [False, False, False, False, False, False, False, False],\n",
      "       [False, False, False, False, False, False, False, False],\n",
      "       [False, False, False, False, False, False, False, False],\n",
      "       [False, False, False, False, False, False, False, False],\n",
      "       [False, False, False, False, False, False, False, False],\n",
      "       [False, False, False, False, False, False, False, False],\n",
      "       [False, False, False, False, False, False, False, False],\n",
      "       [False, False, False, False, False, False, False, False],\n",
      "       [False, False, False, False, False, False, False, False],\n",
      "       [False, False, False, False, False, False, False, False],\n",
      "       [False, False, False, False, False, False, False, False],\n",
      "       [False, False, False, False, False, False, False, False],\n",
      "       [False, False, False, False, False, False, False, False]])\n",
      "  array([False])]]\n"
     ]
    }
   ],
   "source": [
    "for k in range(len(list(batch))):\n",
    "  #print(\"Shape=\", batch[k].shape)\n",
    "  print(batch[k])"
   ]
  },
  {
   "cell_type": "code",
   "execution_count": 8,
   "metadata": {},
   "outputs": [
    {
     "ename": "TypeError",
     "evalue": "__init__() missing 1 required positional argument: 'xshape'",
     "output_type": "error",
     "traceback": [
      "\u001b[0;31m---------------------------------------------------------------------------\u001b[0m",
      "\u001b[0;31mTypeError\u001b[0m                                 Traceback (most recent call last)",
      "\u001b[0;32m<ipython-input-8-9cd63e01d2a9>\u001b[0m in \u001b[0;36m<module>\u001b[0;34m()\u001b[0m\n\u001b[1;32m      1\u001b[0m \u001b[0;31m# Test models\u001b[0m\u001b[0;34m\u001b[0m\u001b[0;34m\u001b[0m\u001b[0m\n\u001b[1;32m      2\u001b[0m \u001b[0;32mfrom\u001b[0m \u001b[0mkeras_decoders\u001b[0m \u001b[0;32mimport\u001b[0m \u001b[0mSimpleDecoder\u001b[0m\u001b[0;34m,\u001b[0m \u001b[0mBranchedDecoder\u001b[0m\u001b[0;34m\u001b[0m\u001b[0m\n\u001b[0;32m----> 3\u001b[0;31m \u001b[0mkd\u001b[0m\u001b[0;34m=\u001b[0m\u001b[0mSimpleDecoder\u001b[0m\u001b[0;34m(\u001b[0m\u001b[0;34m)\u001b[0m\u001b[0;34m\u001b[0m\u001b[0m\n\u001b[0m",
      "\u001b[0;31mTypeError\u001b[0m: __init__() missing 1 required positional argument: 'xshape'"
     ]
    }
   ],
   "source": [
    "# Test models\n",
    "from keras_decoders import SimpleDecoder, BranchedDecoder\n",
    "kd=SimpleDecoder()"
   ]
  },
  {
   "cell_type": "code",
   "execution_count": null,
   "metadata": {},
   "outputs": [],
   "source": [
    "class A:\n",
    "  def __init__(self, a=42):\n",
    "    self.a=a\n",
    "  def f(self):\n",
    "    self.b=137\n",
    "  def ff(self):\n",
    "    return self.b"
   ]
  },
  {
   "cell_type": "code",
   "execution_count": null,
   "metadata": {},
   "outputs": [],
   "source": [
    "_a=A()\n",
    "_a.f()\n",
    "_a.ff()"
   ]
  },
  {
   "cell_type": "code",
   "execution_count": null,
   "metadata": {},
   "outputs": [],
   "source": [
    "validation_fname"
   ]
  }
 ],
 "metadata": {
  "kernelspec": {
   "display_name": "Python 3",
   "language": "python",
   "name": "python3"
  },
  "language_info": {
   "codemirror_mode": {
    "name": "ipython",
    "version": 3
   },
   "file_extension": ".py",
   "mimetype": "text/x-python",
   "name": "python",
   "nbconvert_exporter": "python",
   "pygments_lexer": "ipython3",
   "version": "3.6.4"
  }
 },
 "nbformat": 4,
 "nbformat_minor": 2
}
