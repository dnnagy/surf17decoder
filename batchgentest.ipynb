{
 "cells": [
  {
   "cell_type": "code",
   "execution_count": 8,
   "metadata": {},
   "outputs": [
    {
     "name": "stdout",
     "output_type": "stream",
     "text": [
      "Epoch 1/4\n",
      "128/128 [==============================] - 8s 61ms/step - loss: 7.5975 - acc: 0.5234 - val_loss: 7.5975 - val_acc: 0.5234\n",
      "Epoch 2/4\n",
      "128/128 [==============================] - 6s 47ms/step - loss: 7.5975 - acc: 0.5234 - val_loss: 7.5975 - val_acc: 0.5234\n",
      "Epoch 3/4\n",
      "128/128 [==============================] - 6s 47ms/step - loss: 7.5975 - acc: 0.5234 - val_loss: 7.5975 - val_acc: 0.5234\n",
      "Epoch 4/4\n",
      "128/128 [==============================] - 6s 47ms/step - loss: 7.5975 - acc: 0.5234 - val_loss: 7.5975 - val_acc: 0.5234\n"
     ]
    },
    {
     "data": {
      "text/plain": [
       "<keras.callbacks.History at 0x129aab4e0>"
      ]
     },
     "execution_count": 8,
     "metadata": {},
     "output_type": "execute_result"
    }
   ],
   "source": [
    "import numpy as np\n",
    "import keras\n",
    "from keras import Sequential\n",
    "from keras.models import Sequential\n",
    "from keras.models import Model\n",
    "from keras.layers import Input, Dense, LSTM, Concatenate, Flatten\n",
    "from keras.optimizers import SGD\n",
    "from keras.layers.normalization import BatchNormalization\n",
    "\n",
    "np.random.seed(42)\n",
    "\n",
    "X_shape = (20, 8) # each X consists of 20 samples of 8 features\n",
    "y_shape = (1,) # the result is 1 bit\n",
    "event_num = 2048\n",
    "\n",
    "\"\"\"\n",
    "keras Batch Generator that imitates a batchgenerator, which reads batches from a database\n",
    "\"\"\"\n",
    "class BatchGen(keras.utils.Sequence):\n",
    "  def __init__(self, batch_size=16):\n",
    "    self.batch_size=batch_size\n",
    "    self.data_length = event_num # event_num (X, y) pairs in our fictional database\n",
    "    \n",
    "    # Generate random data\n",
    "    self.X = np.random.randint(0,2,size=(self.data_length, *X_shape))\n",
    "    self.y = np.random.randint(0,2,size=(self.data_length, *y_shape))\n",
    "    \n",
    "  def __len__(self):\n",
    "    return int(np.ceil(self.data_length/float(self.batch_size)))\n",
    "  \n",
    "  def __getitem__(self, index):\n",
    "    slc = slice(index*self.batch_size, (index+1)*self.batch_size)\n",
    "    return (self.X[slc], self.y[slc])\n",
    "\n",
    "\"\"\"\n",
    "Simple keras model to use our batch generator on something\n",
    "\"\"\"  \n",
    "class SimpleDecoder:\n",
    "    def __init__(self, xshape, hidden_size=64):\n",
    "        self.hidden_size=hidden_size\n",
    "        self.xshape=xshape\n",
    "        pass\n",
    "    \n",
    "    def create_model(self):\n",
    "        # This returns a tensor\n",
    "        input_syndr = Input(shape=(self.xshape))\n",
    "        \n",
    "        x = LSTM(self.hidden_size, return_sequences=True)(input_syndr)\n",
    "        x = LSTM(self.hidden_size, return_sequences=True)(x)\n",
    "        x = Flatten()(x)\n",
    "        x = Dense(self.hidden_size, activation='relu')(x)\n",
    "        predictions = Dense(1, activation='softmax')(x)\n",
    "        \n",
    "        # optimizer\n",
    "        sgd = SGD(lr = 0.1, momentum = 0.9, decay = 0, nesterov = False)\n",
    "        \n",
    "        model = Model(inputs=input_syndr, outputs=predictions)\n",
    "        model.compile(loss='binary_crossentropy', optimizer=sgd, metrics=['accuracy'])\n",
    "        return model\n",
    "\n",
    "\n",
    "model=SimpleDecoder(xshape=X_shape).create_model()\n",
    "\n",
    "bg=BatchGen()\n",
    "model.fit_generator(generator=bg,\n",
    "                    epochs=4,\n",
    "                    validation_data=bg,\n",
    "                    use_multiprocessing=True,\n",
    "                    workers=1)"
   ]
  },
  {
   "cell_type": "code",
   "execution_count": 5,
   "metadata": {},
   "outputs": [
    {
     "data": {
      "text/plain": [
       "'249d6c99eff6d0ef6c470e4254629323'"
      ]
     },
     "execution_count": 5,
     "metadata": {},
     "output_type": "execute_result"
    }
   ],
   "source": [
    "import hashlib\n",
    "hashlib.md5(b\"valami\").hexdigest()"
   ]
  },
  {
   "cell_type": "code",
   "execution_count": null,
   "metadata": {},
   "outputs": [],
   "source": []
  }
 ],
 "metadata": {
  "kernelspec": {
   "display_name": "Python 3",
   "language": "python",
   "name": "python3"
  },
  "language_info": {
   "codemirror_mode": {
    "name": "ipython",
    "version": 3
   },
   "file_extension": ".py",
   "mimetype": "text/x-python",
   "name": "python",
   "nbconvert_exporter": "python",
   "pygments_lexer": "ipython3",
   "version": "3.6.4"
  }
 },
 "nbformat": 4,
 "nbformat_minor": 2
}
